{
 "cells": [
  {
   "cell_type": "markdown",
   "id": "6632da9b",
   "metadata": {
    "id": "6632da9b"
   },
   "source": [
    "<div class=\"jp-Cell-inputWrapper\">\n",
    "\n",
    "<div class=\"jp-RenderedHTMLCommon jp-RenderedMarkdown jp-MarkdownOutput \" data-mime-type=\"text/markdown\">\n",
    "\n",
    "# Arocom IT Solutions Private Ltd\n",
    "\n",
    "</div>\n",
    "\n",
    "</div>\n",
    "\n",
    "<div class=\"jp-Cell-inputWrapper\">\n",
    "\n",
    "<div class=\"jp-RenderedHTMLCommon jp-RenderedMarkdown jp-MarkdownOutput \" data-mime-type=\"text/markdown\">\n",
    "\n",
    "**Domain:** Warehouse shipping\n",
    "\n",
    "**Context** An international e-commerce company based wants to discover key insights from their customer database. They want to use some of the most advanced machine learning techniques to study their customers. The company sells electronic products.\n",
    "\n",
    "**Feature Description** The dataset used for model building contained 10999 observations of 12 variables. The data contains the following information:\n",
    "\n",
    "*   ID: ID Number of Customers.\n",
    "\n",
    "*   Warehouse block: The Company have big Warehouse which is divided in to block such as A,B,C,D,E.\n",
    "\n",
    "*   Mode of shipment:The Company Ships the products in multiple way such as Ship, Flight and Road.\n",
    "\n",
    "*   Customer care calls: The number of calls made from enquiry for enquiry of the shipment.\n",
    "\n",
    "*   Customer rating: The company has rated from every customer. 1 is the lowest (Worst), 5 is the highest (Best).\n",
    "\n",
    "*   Cost of the product: Cost of the Product in US Dollars.\n",
    "\n",
    "*   Prior purchases: The Number of Prior Purchase.\n",
    "\n",
    "*   Product importance: The company has categorized the product in the various parameter such as low, medium, high.\n",
    "\n",
    "*   Gender: Male and Female.\n",
    "\n",
    "*   Discount offered: Discount offered on that specific product.\n",
    "\n",
    "*   Weight in gms: It is the weight in grams.\n",
    "\n",
    "*   Reached on time: It is the target variable, where 1 Indicates that the product has NOT reached on time and 0 indicates it has reached on time.\n",
    "\n",
    "</div>\n",
    "\n",
    "</div>\n",
    "\n",
    "<div class=\"jp-Cell-inputWrapper\">\n",
    "\n",
    "<div class=\"jp-RenderedHTMLCommon jp-RenderedMarkdown jp-MarkdownOutput \" data-mime-type=\"text/markdown\">\n",
    "\n",
    "#### Project Objective[¶](#Project-Objective)\n",
    "\n",
    "This data of Product Shipment Tracking, answer instantly to your questions:\n",
    "\n",
    "*   What was Customer Rating? And was the product delivered on time?\n",
    "*   Is Customer query is being answered?\n",
    "*   If Product importance is high. having higest rating or being delivered on time?\n",
    "\n",
    "</div>\n",
    "\n",
    "</div>\n",
    "\n",
    "<div class=\"jp-Cell-inputWrapper\">\n",
    "\n",
    "<div class=\"jp-RenderedHTMLCommon jp-RenderedMarkdown jp-MarkdownOutput \" data-mime-type=\"text/markdown\">\n",
    "\n",
    "**Steps to the project:**\n",
    "\n",
    "**1\\. Load the dataset:**\n",
    "\n",
    "*   Import data and Explore shape and size.\n",
    "\n",
    "**2\\. Data cleansing:**\n",
    "\n",
    "*   Missing value treatment\n",
    "\n",
    "*   Convert categorical attributes to continuous using relevant functional knowledge\n",
    "\n",
    "*   Drop attribute/s if required using relevant functional knowledge\n",
    "\n",
    "*   Automate all the above steps\n",
    "\n",
    "**3\\. Data analysis & visualisation:**\n",
    "\n",
    "*   Perform detailed statistical analysis on the data. •\n",
    "*   Perform a detailed univariate, bivariate and multivariate analysis with appropriate detailed comments after each analysis.\n",
    "\n",
    "**4\\. Data pre-processing:**\n",
    "\n",
    "*   Segregate predictors vs target attributes\n",
    "\n",
    "*   Check for target balancing and fix it if found imbalanced.\n",
    "\n",
    "*   Perform train-test split.\n",
    "\n",
    "*   Check if the train and test data have similar statistical characteristics when compared with original data.\n",
    "\n",
    "**5\\. Model training, testing and tuning:**\n",
    "\n",
    "*   Train and test all ensemble models taught in the learning module.\n",
    "\n",
    "*   Suggestion: Use standard ensembles available. Also you can design your own ensemble technique using weak classifiers.\n",
    "\n",
    "*   Display the classification accuracies for train and test data.\n",
    "\n",
    "*   Apply all the possible tuning techniques to train the best model for the given data.\n",
    "\n",
    "*   Suggestion: Use all possible hyper parameter combinations to extract the best accuracies.\n",
    "\n",
    "*   Display and compare all the models designed with their train and test accuracies.\n",
    "\n",
    "*   Select the final best trained model along with your detailed comments for selecting this model.\n",
    "\n",
    "*   Pickle the selected model for future use.\n",
    "\n",
    "**6\\. GUI development:**\n",
    "\n",
    "*   Design a clickable web service application.\n",
    "\n",
    "*   This application should allow the user to input all future values and on a click use these values on the trained model above to predict.\n",
    "\n",
    "*   It should display the prediction.\n",
    "\n",
    "**7\\. Conclusion and improvisation:**\n",
    "\n",
    "*   Write your conclusion on the results.\n",
    "\n",
    "*   Detailed suggestions or improvements or on quality, quantity, variety, velocity, veracity etc. on the data points perform a better data analysis in future.\n",
    "\n",
    "</div>\n",
    "\n",
    "</div>\n",
    "\n"
   ]
  },
  {
   "cell_type": "code",
   "execution_count": 1,
   "id": "P5RX0g_G4GNw",
   "metadata": {
    "id": "P5RX0g_G4GNw"
   },
   "outputs": [],
   "source": [
    "#connect to google drive"
   ]
  },
  {
   "cell_type": "code",
   "execution_count": 2,
   "id": "PNDU5mtf4Jvx",
   "metadata": {
    "colab": {
     "base_uri": "https://localhost:8080/"
    },
    "id": "PNDU5mtf4Jvx",
    "outputId": "73397a35-a885-4009-8ecd-6c126419b997"
   },
   "outputs": [
    {
     "name": "stdout",
     "output_type": "stream",
     "text": [
      "Mounted at /content/drive\n"
     ]
    }
   ],
   "source": [
    "from google.colab import drive\n",
    "drive.mount('/content/drive')"
   ]
  },
  {
   "cell_type": "markdown",
   "id": "e5cd0bd8",
   "metadata": {
    "id": "e5cd0bd8"
   },
   "source": [
    "# 1. Load the Dataset"
   ]
  },
  {
   "cell_type": "code",
   "execution_count": 3,
   "id": "e191614e",
   "metadata": {
    "id": "e191614e"
   },
   "outputs": [],
   "source": [
    "#Importing the necessary libraries for analysing and loading the dataset\n",
    "import pandas as pd\n",
    "import numpy as np\n",
    "import matplotlib.pyplot as plt\n",
    "import seaborn as sns"
   ]
  },
  {
   "cell_type": "code",
   "execution_count": 4,
   "id": "skKTHM3MlRp8",
   "metadata": {
    "id": "skKTHM3MlRp8"
   },
   "outputs": [],
   "source": [
    "from sklearn.linear_model import LogisticRegression\n",
    "from sklearn.tree import DecisionTreeClassifier\n",
    "from sklearn.neighbors import KNeighborsClassifier\n",
    "from sklearn.discriminant_analysis import LinearDiscriminantAnalysis\n",
    "from sklearn.naive_bayes import GaussianNB\n",
    "from sklearn.svm import SVC\n",
    "from sklearn.ensemble import AdaBoostClassifier\n",
    "from sklearn.ensemble import GradientBoostingClassifier\n",
    "from sklearn.ensemble import RandomForestClassifier\n",
    "from sklearn.ensemble import ExtraTreesClassifier"
   ]
  },
  {
   "cell_type": "code",
   "execution_count": 5,
   "id": "6jL7I2Ghla99",
   "metadata": {
    "id": "6jL7I2Ghla99"
   },
   "outputs": [],
   "source": [
    "from sklearn.model_selection import KFold\n",
    "from sklearn.model_selection import cross_val_score\n",
    "from sklearn.model_selection import GridSearchCV\n",
    "from sklearn.model_selection import RepeatedStratifiedKFold\n",
    "from sklearn.ensemble import StackingClassifier\n",
    "from sklearn. metrics import classification_report"
   ]
  },
  {
   "cell_type": "code",
   "execution_count": 7,
   "id": "a7392950",
   "metadata": {
    "colab": {
     "base_uri": "https://localhost:8080/",
     "height": 204
    },
    "id": "a7392950",
    "outputId": "19a1c6b1-00ec-4088-b2f4-11abc4b4b8b5"
   },
   "outputs": [
    {
     "data": {
      "text/html": [
       "<div>\n",
       "<style scoped>\n",
       "    .dataframe tbody tr th:only-of-type {\n",
       "        vertical-align: middle;\n",
       "    }\n",
       "\n",
       "    .dataframe tbody tr th {\n",
       "        vertical-align: top;\n",
       "    }\n",
       "\n",
       "    .dataframe thead th {\n",
       "        text-align: right;\n",
       "    }\n",
       "</style>\n",
       "<table border=\"1\" class=\"dataframe\">\n",
       "  <thead>\n",
       "    <tr style=\"text-align: right;\">\n",
       "      <th></th>\n",
       "      <th>ID</th>\n",
       "      <th>Warehouse_block</th>\n",
       "      <th>Mode_of_Shipment</th>\n",
       "      <th>Customer_care_calls</th>\n",
       "      <th>Customer_rating</th>\n",
       "      <th>Cost_of_the_Product</th>\n",
       "      <th>Prior_purchases</th>\n",
       "      <th>Product_importance</th>\n",
       "      <th>Gender</th>\n",
       "      <th>Discount_offered</th>\n",
       "      <th>Weight_in_gms</th>\n",
       "      <th>Reached.on.Time_Y.N</th>\n",
       "    </tr>\n",
       "  </thead>\n",
       "  <tbody>\n",
       "    <tr>\n",
       "      <th>0</th>\n",
       "      <td>1</td>\n",
       "      <td>D</td>\n",
       "      <td>Flight</td>\n",
       "      <td>4</td>\n",
       "      <td>2</td>\n",
       "      <td>177</td>\n",
       "      <td>3</td>\n",
       "      <td>low</td>\n",
       "      <td>F</td>\n",
       "      <td>44</td>\n",
       "      <td>1233</td>\n",
       "      <td>1</td>\n",
       "    </tr>\n",
       "    <tr>\n",
       "      <th>1</th>\n",
       "      <td>2</td>\n",
       "      <td>F</td>\n",
       "      <td>Flight</td>\n",
       "      <td>4</td>\n",
       "      <td>5</td>\n",
       "      <td>216</td>\n",
       "      <td>2</td>\n",
       "      <td>low</td>\n",
       "      <td>M</td>\n",
       "      <td>59</td>\n",
       "      <td>3088</td>\n",
       "      <td>1</td>\n",
       "    </tr>\n",
       "    <tr>\n",
       "      <th>2</th>\n",
       "      <td>3</td>\n",
       "      <td>A</td>\n",
       "      <td>Flight</td>\n",
       "      <td>2</td>\n",
       "      <td>2</td>\n",
       "      <td>183</td>\n",
       "      <td>4</td>\n",
       "      <td>low</td>\n",
       "      <td>M</td>\n",
       "      <td>48</td>\n",
       "      <td>3374</td>\n",
       "      <td>1</td>\n",
       "    </tr>\n",
       "    <tr>\n",
       "      <th>3</th>\n",
       "      <td>4</td>\n",
       "      <td>B</td>\n",
       "      <td>Flight</td>\n",
       "      <td>3</td>\n",
       "      <td>3</td>\n",
       "      <td>176</td>\n",
       "      <td>4</td>\n",
       "      <td>medium</td>\n",
       "      <td>M</td>\n",
       "      <td>10</td>\n",
       "      <td>1177</td>\n",
       "      <td>1</td>\n",
       "    </tr>\n",
       "    <tr>\n",
       "      <th>4</th>\n",
       "      <td>5</td>\n",
       "      <td>C</td>\n",
       "      <td>Flight</td>\n",
       "      <td>2</td>\n",
       "      <td>2</td>\n",
       "      <td>184</td>\n",
       "      <td>3</td>\n",
       "      <td>medium</td>\n",
       "      <td>F</td>\n",
       "      <td>46</td>\n",
       "      <td>2484</td>\n",
       "      <td>1</td>\n",
       "    </tr>\n",
       "  </tbody>\n",
       "</table>\n",
       "</div>"
      ],
      "text/plain": [
       "   ID Warehouse_block  ... Weight_in_gms  Reached.on.Time_Y.N\n",
       "0   1               D  ...          1233                    1\n",
       "1   2               F  ...          3088                    1\n",
       "2   3               A  ...          3374                    1\n",
       "3   4               B  ...          1177                    1\n",
       "4   5               C  ...          2484                    1\n",
       "\n",
       "[5 rows x 12 columns]"
      ]
     },
     "execution_count": 7,
     "metadata": {
      "tags": []
     },
     "output_type": "execute_result"
    }
   ],
   "source": [
    "df = pd.read_csv('/content/drive/MyDrive/product_shipment (2).csv')\n",
    "df.head()"
   ]
  },
  {
   "cell_type": "code",
   "execution_count": 8,
   "id": "b778e6bb",
   "metadata": {
    "colab": {
     "base_uri": "https://localhost:8080/"
    },
    "id": "b778e6bb",
    "outputId": "a9203c7b-e11b-4580-fa56-72244d22d3e2"
   },
   "outputs": [
    {
     "data": {
      "text/plain": [
       "(10999, 12)"
      ]
     },
     "execution_count": 8,
     "metadata": {
      "tags": []
     },
     "output_type": "execute_result"
    }
   ],
   "source": [
    "# gives us the number of rows and columns in (rows,columns)\n",
    "df.shape "
   ]
  },
  {
   "cell_type": "code",
   "execution_count": 9,
   "id": "1e8c7781",
   "metadata": {
    "colab": {
     "base_uri": "https://localhost:8080/"
    },
    "id": "1e8c7781",
    "outputId": "bec6b316-f86f-4ef1-e676-9556396b9c93"
   },
   "outputs": [
    {
     "name": "stdout",
     "output_type": "stream",
     "text": [
      "<class 'pandas.core.frame.DataFrame'>\n",
      "RangeIndex: 10999 entries, 0 to 10998\n",
      "Data columns (total 12 columns):\n",
      " #   Column               Non-Null Count  Dtype \n",
      "---  ------               --------------  ----- \n",
      " 0   ID                   10999 non-null  int64 \n",
      " 1   Warehouse_block      10999 non-null  object\n",
      " 2   Mode_of_Shipment     10999 non-null  object\n",
      " 3   Customer_care_calls  10999 non-null  int64 \n",
      " 4   Customer_rating      10999 non-null  int64 \n",
      " 5   Cost_of_the_Product  10999 non-null  int64 \n",
      " 6   Prior_purchases      10999 non-null  int64 \n",
      " 7   Product_importance   10999 non-null  object\n",
      " 8   Gender               10999 non-null  object\n",
      " 9   Discount_offered     10999 non-null  int64 \n",
      " 10  Weight_in_gms        10999 non-null  int64 \n",
      " 11  Reached.on.Time_Y.N  10999 non-null  int64 \n",
      "dtypes: int64(8), object(4)\n",
      "memory usage: 1.0+ MB\n"
     ]
    }
   ],
   "source": [
    "# Looking at what all types of data is present in the dataframe\n",
    "df.info()"
   ]
  },
  {
   "cell_type": "markdown",
   "id": "90b66bf2",
   "metadata": {
    "id": "90b66bf2"
   },
   "source": [
    "**we see that there are some non integers which might cause problems while developing\n",
    "the model. So we shall deal with the objects in the data cleansing part**"
   ]
  },
  {
   "cell_type": "code",
   "execution_count": 10,
   "id": "7c44396c",
   "metadata": {
    "colab": {
     "base_uri": "https://localhost:8080/",
     "height": 297
    },
    "id": "7c44396c",
    "outputId": "7660b24b-b6e9-46bf-c82e-72acaa6af060"
   },
   "outputs": [
    {
     "data": {
      "text/html": [
       "<div>\n",
       "<style scoped>\n",
       "    .dataframe tbody tr th:only-of-type {\n",
       "        vertical-align: middle;\n",
       "    }\n",
       "\n",
       "    .dataframe tbody tr th {\n",
       "        vertical-align: top;\n",
       "    }\n",
       "\n",
       "    .dataframe thead th {\n",
       "        text-align: right;\n",
       "    }\n",
       "</style>\n",
       "<table border=\"1\" class=\"dataframe\">\n",
       "  <thead>\n",
       "    <tr style=\"text-align: right;\">\n",
       "      <th></th>\n",
       "      <th>ID</th>\n",
       "      <th>Customer_care_calls</th>\n",
       "      <th>Customer_rating</th>\n",
       "      <th>Cost_of_the_Product</th>\n",
       "      <th>Prior_purchases</th>\n",
       "      <th>Discount_offered</th>\n",
       "      <th>Weight_in_gms</th>\n",
       "      <th>Reached.on.Time_Y.N</th>\n",
       "    </tr>\n",
       "  </thead>\n",
       "  <tbody>\n",
       "    <tr>\n",
       "      <th>count</th>\n",
       "      <td>10999.00000</td>\n",
       "      <td>10999.000000</td>\n",
       "      <td>10999.000000</td>\n",
       "      <td>10999.000000</td>\n",
       "      <td>10999.000000</td>\n",
       "      <td>10999.000000</td>\n",
       "      <td>10999.000000</td>\n",
       "      <td>10999.000000</td>\n",
       "    </tr>\n",
       "    <tr>\n",
       "      <th>mean</th>\n",
       "      <td>5500.00000</td>\n",
       "      <td>4.054459</td>\n",
       "      <td>2.990545</td>\n",
       "      <td>210.196836</td>\n",
       "      <td>3.567597</td>\n",
       "      <td>13.373216</td>\n",
       "      <td>3634.016729</td>\n",
       "      <td>0.596691</td>\n",
       "    </tr>\n",
       "    <tr>\n",
       "      <th>std</th>\n",
       "      <td>3175.28214</td>\n",
       "      <td>1.141490</td>\n",
       "      <td>1.413603</td>\n",
       "      <td>48.063272</td>\n",
       "      <td>1.522860</td>\n",
       "      <td>16.205527</td>\n",
       "      <td>1635.377251</td>\n",
       "      <td>0.490584</td>\n",
       "    </tr>\n",
       "    <tr>\n",
       "      <th>min</th>\n",
       "      <td>1.00000</td>\n",
       "      <td>2.000000</td>\n",
       "      <td>1.000000</td>\n",
       "      <td>96.000000</td>\n",
       "      <td>2.000000</td>\n",
       "      <td>1.000000</td>\n",
       "      <td>1001.000000</td>\n",
       "      <td>0.000000</td>\n",
       "    </tr>\n",
       "    <tr>\n",
       "      <th>25%</th>\n",
       "      <td>2750.50000</td>\n",
       "      <td>3.000000</td>\n",
       "      <td>2.000000</td>\n",
       "      <td>169.000000</td>\n",
       "      <td>3.000000</td>\n",
       "      <td>4.000000</td>\n",
       "      <td>1839.500000</td>\n",
       "      <td>0.000000</td>\n",
       "    </tr>\n",
       "    <tr>\n",
       "      <th>50%</th>\n",
       "      <td>5500.00000</td>\n",
       "      <td>4.000000</td>\n",
       "      <td>3.000000</td>\n",
       "      <td>214.000000</td>\n",
       "      <td>3.000000</td>\n",
       "      <td>7.000000</td>\n",
       "      <td>4149.000000</td>\n",
       "      <td>1.000000</td>\n",
       "    </tr>\n",
       "    <tr>\n",
       "      <th>75%</th>\n",
       "      <td>8249.50000</td>\n",
       "      <td>5.000000</td>\n",
       "      <td>4.000000</td>\n",
       "      <td>251.000000</td>\n",
       "      <td>4.000000</td>\n",
       "      <td>10.000000</td>\n",
       "      <td>5050.000000</td>\n",
       "      <td>1.000000</td>\n",
       "    </tr>\n",
       "    <tr>\n",
       "      <th>max</th>\n",
       "      <td>10999.00000</td>\n",
       "      <td>7.000000</td>\n",
       "      <td>5.000000</td>\n",
       "      <td>310.000000</td>\n",
       "      <td>10.000000</td>\n",
       "      <td>65.000000</td>\n",
       "      <td>7846.000000</td>\n",
       "      <td>1.000000</td>\n",
       "    </tr>\n",
       "  </tbody>\n",
       "</table>\n",
       "</div>"
      ],
      "text/plain": [
       "                ID  Customer_care_calls  ...  Weight_in_gms  Reached.on.Time_Y.N\n",
       "count  10999.00000         10999.000000  ...   10999.000000         10999.000000\n",
       "mean    5500.00000             4.054459  ...    3634.016729             0.596691\n",
       "std     3175.28214             1.141490  ...    1635.377251             0.490584\n",
       "min        1.00000             2.000000  ...    1001.000000             0.000000\n",
       "25%     2750.50000             3.000000  ...    1839.500000             0.000000\n",
       "50%     5500.00000             4.000000  ...    4149.000000             1.000000\n",
       "75%     8249.50000             5.000000  ...    5050.000000             1.000000\n",
       "max    10999.00000             7.000000  ...    7846.000000             1.000000\n",
       "\n",
       "[8 rows x 8 columns]"
      ]
     },
     "execution_count": 10,
     "metadata": {
      "tags": []
     },
     "output_type": "execute_result"
    }
   ],
   "source": [
    "# gives us basic statistical insight about each column\n",
    "df.describe()"
   ]
  },
  {
   "cell_type": "markdown",
   "id": "01f7551d",
   "metadata": {
    "id": "01f7551d"
   },
   "source": [
    "# 2. Data cleansing"
   ]
  },
  {
   "cell_type": "code",
   "execution_count": 11,
   "id": "e1d8511b",
   "metadata": {
    "colab": {
     "base_uri": "https://localhost:8080/"
    },
    "id": "e1d8511b",
    "outputId": "462e9d87-2579-4043-e26d-3a0089131ad5"
   },
   "outputs": [
    {
     "data": {
      "text/plain": [
       "ID                     0\n",
       "Warehouse_block        0\n",
       "Mode_of_Shipment       0\n",
       "Customer_care_calls    0\n",
       "Customer_rating        0\n",
       "Cost_of_the_Product    0\n",
       "Prior_purchases        0\n",
       "Product_importance     0\n",
       "Gender                 0\n",
       "Discount_offered       0\n",
       "Weight_in_gms          0\n",
       "Reached.on.Time_Y.N    0\n",
       "dtype: int64"
      ]
     },
     "execution_count": 11,
     "metadata": {
      "tags": []
     },
     "output_type": "execute_result"
    }
   ],
   "source": [
    "#\n",
    "df.isnull().sum()"
   ]
  },
  {
   "cell_type": "markdown",
   "id": "NTMaVJKFiXjQ",
   "metadata": {
    "id": "NTMaVJKFiXjQ"
   },
   "source": [
    "# 3. Data Analysis"
   ]
  },
  {
   "cell_type": "markdown",
   "id": "8fd07b69",
   "metadata": {
    "id": "8fd07b69"
   },
   "source": [
    "**There seem to be no missing values at all, hence we can skip this step**"
   ]
  },
  {
   "cell_type": "code",
   "execution_count": 12,
   "id": "44bc3b7f",
   "metadata": {
    "colab": {
     "base_uri": "https://localhost:8080/"
    },
    "id": "44bc3b7f",
    "outputId": "33ea2a72-84ae-441a-b935-478263caee82"
   },
   "outputs": [
    {
     "data": {
      "text/plain": [
       "Index(['ID', 'Customer_care_calls', 'Customer_rating', 'Cost_of_the_Product',\n",
       "       'Prior_purchases', 'Discount_offered', 'Weight_in_gms',\n",
       "       'Reached.on.Time_Y.N'],\n",
       "      dtype='object')"
      ]
     },
     "execution_count": 12,
     "metadata": {
      "tags": []
     },
     "output_type": "execute_result"
    }
   ],
   "source": [
    "object1 = df.select_dtypes(include='object').columns\n",
    "float1 = df.select_dtypes(exclude = 'object').columns\n",
    "float1"
   ]
  },
  {
   "cell_type": "code",
   "execution_count": 13,
   "id": "AoFRn3RnW-kT",
   "metadata": {
    "colab": {
     "base_uri": "https://localhost:8080/",
     "height": 313
    },
    "id": "AoFRn3RnW-kT",
    "outputId": "462e93e5-904d-492d-facf-145bcf753656"
   },
   "outputs": [
    {
     "data": {
      "text/plain": [
       "<matplotlib.axes._subplots.AxesSubplot at 0x7f3072728910>"
      ]
     },
     "execution_count": 13,
     "metadata": {
      "tags": []
     },
     "output_type": "execute_result"
    },
    {
     "data": {
      "image/png": "[encoded data removed]",
      "text/plain": [
       "<Figure size 432x288 with 1 Axes>"
      ]
     },
     "metadata": {
      "needs_background": "light",
      "tags": []
     },
     "output_type": "display_data"
    }
   ],
   "source": [
    "plt.title('Count of Reached on time')\n",
    "sns.countplot(x ='Reached.on.Time_Y.N',  data = df)"
   ]
  },
  {
   "cell_type": "markdown",
   "id": "Pj6Hq6tsoyR6",
   "metadata": {
    "id": "Pj6Hq6tsoyR6"
   },
   "source": [
    "Roughly 40% reached on time and 60% did not.\n",
    "\n",
    "\n"
   ]
  },
  {
   "cell_type": "code",
   "execution_count": 14,
   "id": "gnF5-TWpXnP3",
   "metadata": {
    "colab": {
     "base_uri": "https://localhost:8080/",
     "height": 606
    },
    "id": "gnF5-TWpXnP3",
    "outputId": "af921d31-5822-4c39-abe7-003d54ce5099"
   },
   "outputs": [
    {
     "data": {
      "image/png": "[encoded data removed]",
      "text/plain": [
       "<Figure size 1080x720 with 4 Axes>"
      ]
     },
     "metadata": {
      "needs_background": "light",
      "tags": []
     },
     "output_type": "display_data"
    }
   ],
   "source": [
    "i = 1\n",
    "plt.figure(figsize = (15,10))\n",
    "for col in object1:\n",
    "    plt.subplot(2,2,i)\n",
    "    sns.countplot(x = 'Reached.on.Time_Y.N',hue = df[col] , data = df)\n",
    "    i +=1"
   ]
  },
  {
   "cell_type": "markdown",
   "id": "nAUv6luIon7T",
   "metadata": {
    "id": "nAUv6luIon7T"
   },
   "source": [
    "All these features don't seem important as all the plots for y=1 seem like proportionally enlarged versions of the plots on the left"
   ]
  },
  {
   "cell_type": "code",
   "execution_count": 15,
   "id": "28boMi4BY6Nm",
   "metadata": {
    "colab": {
     "base_uri": "https://localhost:8080/",
     "height": 881
    },
    "id": "28boMi4BY6Nm",
    "outputId": "224a2090-5484-465f-8c37-0a86954ec7c7"
   },
   "outputs": [
    {
     "data": {
      "image/png": "[encoded data removed]",
      "text/plain": [
       "<Figure size 1080x1080 with 8 Axes>"
      ]
     },
     "metadata": {
      "needs_background": "light",
      "tags": []
     },
     "output_type": "display_data"
    }
   ],
   "source": [
    "i = 1\n",
    "plt.figure(figsize = (15,15))\n",
    "for col in float1:\n",
    "    plt.subplot(3,3,i)\n",
    "    sns.histplot(x = df[col])\n",
    "    i +=1\n"
   ]
  },
  {
   "cell_type": "markdown",
   "id": "ru8CkisVpZUh",
   "metadata": {
    "id": "ru8CkisVpZUh"
   },
   "source": [
    "Distribution of values of the numeric features"
   ]
  },
  {
   "cell_type": "markdown",
   "id": "KaZhNaSc6hrv",
   "metadata": {
    "id": "KaZhNaSc6hrv"
   },
   "source": [
    "** *italicized text*What was Customer Rating? And was the product delivered on time?**"
   ]
  },
  {
   "cell_type": "code",
   "execution_count": 16,
   "id": "iXzqzv7t5K00",
   "metadata": {
    "colab": {
     "base_uri": "https://localhost:8080/",
     "height": 235
    },
    "id": "iXzqzv7t5K00",
    "outputId": "bfa5644c-43c2-436e-8186-fde31a447b67"
   },
   "outputs": [
    {
     "data": {
      "text/html": [
       "<div>\n",
       "<style scoped>\n",
       "    .dataframe tbody tr th:only-of-type {\n",
       "        vertical-align: middle;\n",
       "    }\n",
       "\n",
       "    .dataframe tbody tr th {\n",
       "        vertical-align: top;\n",
       "    }\n",
       "\n",
       "    .dataframe thead th {\n",
       "        text-align: right;\n",
       "    }\n",
       "</style>\n",
       "<table border=\"1\" class=\"dataframe\">\n",
       "  <thead>\n",
       "    <tr style=\"text-align: right;\">\n",
       "      <th></th>\n",
       "      <th>Reached.on.Time_Y.N</th>\n",
       "    </tr>\n",
       "    <tr>\n",
       "      <th>Customer_rating</th>\n",
       "      <th></th>\n",
       "    </tr>\n",
       "  </thead>\n",
       "  <tbody>\n",
       "    <tr>\n",
       "      <th>1</th>\n",
       "      <td>0.587472</td>\n",
       "    </tr>\n",
       "    <tr>\n",
       "      <th>2</th>\n",
       "      <td>0.587991</td>\n",
       "    </tr>\n",
       "    <tr>\n",
       "      <th>3</th>\n",
       "      <td>0.606074</td>\n",
       "    </tr>\n",
       "    <tr>\n",
       "      <th>4</th>\n",
       "      <td>0.595249</td>\n",
       "    </tr>\n",
       "    <tr>\n",
       "      <th>5</th>\n",
       "      <td>0.606633</td>\n",
       "    </tr>\n",
       "  </tbody>\n",
       "</table>\n",
       "</div>"
      ],
      "text/plain": [
       "                 Reached.on.Time_Y.N\n",
       "Customer_rating                     \n",
       "1                           0.587472\n",
       "2                           0.587991\n",
       "3                           0.606074\n",
       "4                           0.595249\n",
       "5                           0.606633"
      ]
     },
     "execution_count": 16,
     "metadata": {
      "tags": []
     },
     "output_type": "execute_result"
    }
   ],
   "source": [
    "cust=df.groupby('Customer_rating')['Reached.on.Time_Y.N'].mean().to_frame()\n",
    "cust"
   ]
  },
  {
   "cell_type": "markdown",
   "id": "6YnRRZ7g7ggv",
   "metadata": {
    "id": "6YnRRZ7g7ggv"
   },
   "source": [
    "Customer rating does not have a strong correlation with product reaching on time\n",
    "\n"
   ]
  },
  {
   "cell_type": "markdown",
   "id": "s66hktgB8EeQ",
   "metadata": {
    "id": "s66hktgB8EeQ"
   },
   "source": [
    "**Is Customer Query Being Answered**"
   ]
  },
  {
   "cell_type": "code",
   "execution_count": 17,
   "id": "BFFTO4Z08L0I",
   "metadata": {
    "colab": {
     "base_uri": "https://localhost:8080/",
     "height": 266
    },
    "id": "BFFTO4Z08L0I",
    "outputId": "847ee5b7-12d4-4255-8ea0-522197c4f116"
   },
   "outputs": [
    {
     "data": {
      "text/html": [
       "<div>\n",
       "<style scoped>\n",
       "    .dataframe tbody tr th:only-of-type {\n",
       "        vertical-align: middle;\n",
       "    }\n",
       "\n",
       "    .dataframe tbody tr th {\n",
       "        vertical-align: top;\n",
       "    }\n",
       "\n",
       "    .dataframe thead th {\n",
       "        text-align: right;\n",
       "    }\n",
       "</style>\n",
       "<table border=\"1\" class=\"dataframe\">\n",
       "  <thead>\n",
       "    <tr style=\"text-align: right;\">\n",
       "      <th></th>\n",
       "      <th>Reached.on.Time_Y.N</th>\n",
       "    </tr>\n",
       "    <tr>\n",
       "      <th>Customer_care_calls</th>\n",
       "      <th></th>\n",
       "    </tr>\n",
       "  </thead>\n",
       "  <tbody>\n",
       "    <tr>\n",
       "      <th>2</th>\n",
       "      <td>0.652038</td>\n",
       "    </tr>\n",
       "    <tr>\n",
       "      <th>3</th>\n",
       "      <td>0.625117</td>\n",
       "    </tr>\n",
       "    <tr>\n",
       "      <th>4</th>\n",
       "      <td>0.597695</td>\n",
       "    </tr>\n",
       "    <tr>\n",
       "      <th>5</th>\n",
       "      <td>0.584192</td>\n",
       "    </tr>\n",
       "    <tr>\n",
       "      <th>6</th>\n",
       "      <td>0.516288</td>\n",
       "    </tr>\n",
       "    <tr>\n",
       "      <th>7</th>\n",
       "      <td>0.516260</td>\n",
       "    </tr>\n",
       "  </tbody>\n",
       "</table>\n",
       "</div>"
      ],
      "text/plain": [
       "                     Reached.on.Time_Y.N\n",
       "Customer_care_calls                     \n",
       "2                               0.652038\n",
       "3                               0.625117\n",
       "4                               0.597695\n",
       "5                               0.584192\n",
       "6                               0.516288\n",
       "7                               0.516260"
      ]
     },
     "execution_count": 17,
     "metadata": {
      "tags": []
     },
     "output_type": "execute_result"
    }
   ],
   "source": [
    "custq=df.groupby('Customer_care_calls')['Reached.on.Time_Y.N'].mean().to_frame()\n",
    "custq"
   ]
  },
  {
   "cell_type": "markdown",
   "id": "eAr02g1P-AXC",
   "metadata": {
    "id": "eAr02g1P-AXC"
   },
   "source": [
    "As expected, when shipment dont arrive on time, customer calls increase\n",
    "\n",
    "*Doubt--how to know if it is resolved*\n"
   ]
  },
  {
   "cell_type": "markdown",
   "id": "jfyuaOvQ_aMY",
   "metadata": {
    "id": "jfyuaOvQ_aMY"
   },
   "source": [
    "**Does Product Importance Matter**\n",
    "\n",
    "\n",
    "\n"
   ]
  },
  {
   "cell_type": "code",
   "execution_count": 18,
   "id": "1w44proQ_kLy",
   "metadata": {
    "colab": {
     "base_uri": "https://localhost:8080/",
     "height": 173
    },
    "id": "1w44proQ_kLy",
    "outputId": "41bd9d58-17eb-46e9-bf02-0b7badf5f905"
   },
   "outputs": [
    {
     "data": {
      "text/html": [
       "<div>\n",
       "<style scoped>\n",
       "    .dataframe tbody tr th:only-of-type {\n",
       "        vertical-align: middle;\n",
       "    }\n",
       "\n",
       "    .dataframe tbody tr th {\n",
       "        vertical-align: top;\n",
       "    }\n",
       "\n",
       "    .dataframe thead th {\n",
       "        text-align: right;\n",
       "    }\n",
       "</style>\n",
       "<table border=\"1\" class=\"dataframe\">\n",
       "  <thead>\n",
       "    <tr style=\"text-align: right;\">\n",
       "      <th></th>\n",
       "      <th>Reached.on.Time_Y.N</th>\n",
       "    </tr>\n",
       "    <tr>\n",
       "      <th>Product_importance</th>\n",
       "      <th></th>\n",
       "    </tr>\n",
       "  </thead>\n",
       "  <tbody>\n",
       "    <tr>\n",
       "      <th>high</th>\n",
       "      <td>0.649789</td>\n",
       "    </tr>\n",
       "    <tr>\n",
       "      <th>low</th>\n",
       "      <td>0.592788</td>\n",
       "    </tr>\n",
       "    <tr>\n",
       "      <th>medium</th>\n",
       "      <td>0.590450</td>\n",
       "    </tr>\n",
       "  </tbody>\n",
       "</table>\n",
       "</div>"
      ],
      "text/plain": [
       "                    Reached.on.Time_Y.N\n",
       "Product_importance                     \n",
       "high                           0.649789\n",
       "low                            0.592788\n",
       "medium                         0.590450"
      ]
     },
     "execution_count": 18,
     "metadata": {
      "tags": []
     },
     "output_type": "execute_result"
    }
   ],
   "source": [
    "Product_importance = df.groupby([\"Product_importance\"])[\"Reached.on.Time_Y.N\"].mean().to_frame() \n",
    "Product_importance"
   ]
  },
  {
   "cell_type": "markdown",
   "id": "5Wtq92yOB0cG",
   "metadata": {
    "id": "5Wtq92yOB0cG"
   },
   "source": [
    "High product importance reach more on time compared to low and medium,\n",
    "However there is no difference between low and medium"
   ]
  },
  {
   "cell_type": "markdown",
   "id": "nltm7pcvDjrP",
   "metadata": {
    "id": "nltm7pcvDjrP"
   },
   "source": [
    "**Is Product Importance and Customing Rating related**"
   ]
  },
  {
   "cell_type": "code",
   "execution_count": 19,
   "id": "j9_N9ccFDpVy",
   "metadata": {
    "colab": {
     "base_uri": "https://localhost:8080/",
     "height": 173
    },
    "id": "j9_N9ccFDpVy",
    "outputId": "3cfce12a-aa45-4a5c-a39c-0964d35b9706"
   },
   "outputs": [
    {
     "data": {
      "text/html": [
       "<div>\n",
       "<style scoped>\n",
       "    .dataframe tbody tr th:only-of-type {\n",
       "        vertical-align: middle;\n",
       "    }\n",
       "\n",
       "    .dataframe tbody tr th {\n",
       "        vertical-align: top;\n",
       "    }\n",
       "\n",
       "    .dataframe thead th {\n",
       "        text-align: right;\n",
       "    }\n",
       "</style>\n",
       "<table border=\"1\" class=\"dataframe\">\n",
       "  <thead>\n",
       "    <tr style=\"text-align: right;\">\n",
       "      <th></th>\n",
       "      <th>Customer_rating</th>\n",
       "    </tr>\n",
       "    <tr>\n",
       "      <th>Product_importance</th>\n",
       "      <th></th>\n",
       "    </tr>\n",
       "  </thead>\n",
       "  <tbody>\n",
       "    <tr>\n",
       "      <th>high</th>\n",
       "      <td>2.993671</td>\n",
       "    </tr>\n",
       "    <tr>\n",
       "      <th>low</th>\n",
       "      <td>2.983576</td>\n",
       "    </tr>\n",
       "    <tr>\n",
       "      <th>medium</th>\n",
       "      <td>2.997686</td>\n",
       "    </tr>\n",
       "  </tbody>\n",
       "</table>\n",
       "</div>"
      ],
      "text/plain": [
       "                    Customer_rating\n",
       "Product_importance                 \n",
       "high                       2.993671\n",
       "low                        2.983576\n",
       "medium                     2.997686"
      ]
     },
     "execution_count": 19,
     "metadata": {
      "tags": []
     },
     "output_type": "execute_result"
    }
   ],
   "source": [
    "PI = df.groupby([\"Product_importance\"])[\"Customer_rating\"].mean().to_frame() \n",
    "PI"
   ]
  },
  {
   "cell_type": "markdown",
   "id": "blIzbOQWD7am",
   "metadata": {
    "id": "blIzbOQWD7am"
   },
   "source": [
    "It has no relation"
   ]
  },
  {
   "cell_type": "markdown",
   "id": "HfsPyNg69bQd",
   "metadata": {
    "id": "HfsPyNg69bQd"
   },
   "source": [
    "**Does Cost of Product Matter**"
   ]
  },
  {
   "cell_type": "code",
   "execution_count": 74,
   "id": "N-KhrJXX4mEi",
   "metadata": {
    "colab": {
     "base_uri": "https://localhost:8080/",
     "height": 297
    },
    "id": "N-KhrJXX4mEi",
    "outputId": "c09399e5-924f-4fa3-f2a5-47280fcde5b5"
   },
   "outputs": [
    {
     "data": {
      "text/plain": [
       "<matplotlib.axes._subplots.AxesSubplot at 0x7f305bd41250>"
      ]
     },
     "execution_count": 74,
     "metadata": {
      "tags": []
     },
     "output_type": "execute_result"
    },
    {
     "data": {
      "image/png": "[encoded data removed]",
      "text/plain": [
       "<Figure size 432x288 with 1 Axes>"
      ]
     },
     "metadata": {
      "needs_background": "light",
      "tags": []
     },
     "output_type": "display_data"
    }
   ],
   "source": [
    "import seaborn as sns\n",
    "sns.boxplot(x='Reached.on.Time_Y.N', y='Cost_of_the_Product', data=df)"
   ]
  },
  {
   "cell_type": "code",
   "execution_count": 20,
   "id": "kvsQidDq9jvJ",
   "metadata": {
    "colab": {
     "base_uri": "https://localhost:8080/"
    },
    "id": "kvsQidDq9jvJ",
    "outputId": "5f180de0-c67d-446a-ec58-52e2ebff082a"
   },
   "outputs": [
    {
     "data": {
      "text/plain": [
       "-0.07358721059030128"
      ]
     },
     "execution_count": 20,
     "metadata": {
      "tags": []
     },
     "output_type": "execute_result"
    }
   ],
   "source": [
    "df['Reached.on.Time_Y.N'].corr(df['Cost_of_the_Product'])"
   ]
  },
  {
   "cell_type": "markdown",
   "id": "gtJi1vNd9wRk",
   "metadata": {
    "id": "gtJi1vNd9wRk"
   },
   "source": [
    "Surprisingly even cost of product doesn't matter much, and infact also has a slight negative correlation"
   ]
  },
  {
   "cell_type": "code",
   "execution_count": 21,
   "id": "DlWpTuHDe9Q-",
   "metadata": {
    "id": "DlWpTuHDe9Q-"
   },
   "outputs": [],
   "source": [
    "#one-hot encoding\n",
    "df1 = pd.get_dummies(df)"
   ]
  },
  {
   "cell_type": "code",
   "execution_count": 22,
   "id": "D2b0XAiqfAFq",
   "metadata": {
    "colab": {
     "base_uri": "https://localhost:8080/",
     "height": 224
    },
    "id": "D2b0XAiqfAFq",
    "outputId": "ea62251f-83f4-4714-926a-22a8a420dc56"
   },
   "outputs": [
    {
     "data": {
      "text/html": [
       "<div>\n",
       "<style scoped>\n",
       "    .dataframe tbody tr th:only-of-type {\n",
       "        vertical-align: middle;\n",
       "    }\n",
       "\n",
       "    .dataframe tbody tr th {\n",
       "        vertical-align: top;\n",
       "    }\n",
       "\n",
       "    .dataframe thead th {\n",
       "        text-align: right;\n",
       "    }\n",
       "</style>\n",
       "<table border=\"1\" class=\"dataframe\">\n",
       "  <thead>\n",
       "    <tr style=\"text-align: right;\">\n",
       "      <th></th>\n",
       "      <th>ID</th>\n",
       "      <th>Customer_care_calls</th>\n",
       "      <th>Customer_rating</th>\n",
       "      <th>Cost_of_the_Product</th>\n",
       "      <th>Prior_purchases</th>\n",
       "      <th>Discount_offered</th>\n",
       "      <th>Weight_in_gms</th>\n",
       "      <th>Reached.on.Time_Y.N</th>\n",
       "      <th>Warehouse_block_A</th>\n",
       "      <th>Warehouse_block_B</th>\n",
       "      <th>Warehouse_block_C</th>\n",
       "      <th>Warehouse_block_D</th>\n",
       "      <th>Warehouse_block_F</th>\n",
       "      <th>Mode_of_Shipment_Flight</th>\n",
       "      <th>Mode_of_Shipment_Road</th>\n",
       "      <th>Mode_of_Shipment_Ship</th>\n",
       "      <th>Product_importance_high</th>\n",
       "      <th>Product_importance_low</th>\n",
       "      <th>Product_importance_medium</th>\n",
       "      <th>Gender_F</th>\n",
       "      <th>Gender_M</th>\n",
       "    </tr>\n",
       "  </thead>\n",
       "  <tbody>\n",
       "    <tr>\n",
       "      <th>0</th>\n",
       "      <td>1</td>\n",
       "      <td>4</td>\n",
       "      <td>2</td>\n",
       "      <td>177</td>\n",
       "      <td>3</td>\n",
       "      <td>44</td>\n",
       "      <td>1233</td>\n",
       "      <td>1</td>\n",
       "      <td>0</td>\n",
       "      <td>0</td>\n",
       "      <td>0</td>\n",
       "      <td>1</td>\n",
       "      <td>0</td>\n",
       "      <td>1</td>\n",
       "      <td>0</td>\n",
       "      <td>0</td>\n",
       "      <td>0</td>\n",
       "      <td>1</td>\n",
       "      <td>0</td>\n",
       "      <td>1</td>\n",
       "      <td>0</td>\n",
       "    </tr>\n",
       "    <tr>\n",
       "      <th>1</th>\n",
       "      <td>2</td>\n",
       "      <td>4</td>\n",
       "      <td>5</td>\n",
       "      <td>216</td>\n",
       "      <td>2</td>\n",
       "      <td>59</td>\n",
       "      <td>3088</td>\n",
       "      <td>1</td>\n",
       "      <td>0</td>\n",
       "      <td>0</td>\n",
       "      <td>0</td>\n",
       "      <td>0</td>\n",
       "      <td>1</td>\n",
       "      <td>1</td>\n",
       "      <td>0</td>\n",
       "      <td>0</td>\n",
       "      <td>0</td>\n",
       "      <td>1</td>\n",
       "      <td>0</td>\n",
       "      <td>0</td>\n",
       "      <td>1</td>\n",
       "    </tr>\n",
       "    <tr>\n",
       "      <th>2</th>\n",
       "      <td>3</td>\n",
       "      <td>2</td>\n",
       "      <td>2</td>\n",
       "      <td>183</td>\n",
       "      <td>4</td>\n",
       "      <td>48</td>\n",
       "      <td>3374</td>\n",
       "      <td>1</td>\n",
       "      <td>1</td>\n",
       "      <td>0</td>\n",
       "      <td>0</td>\n",
       "      <td>0</td>\n",
       "      <td>0</td>\n",
       "      <td>1</td>\n",
       "      <td>0</td>\n",
       "      <td>0</td>\n",
       "      <td>0</td>\n",
       "      <td>1</td>\n",
       "      <td>0</td>\n",
       "      <td>0</td>\n",
       "      <td>1</td>\n",
       "    </tr>\n",
       "    <tr>\n",
       "      <th>3</th>\n",
       "      <td>4</td>\n",
       "      <td>3</td>\n",
       "      <td>3</td>\n",
       "      <td>176</td>\n",
       "      <td>4</td>\n",
       "      <td>10</td>\n",
       "      <td>1177</td>\n",
       "      <td>1</td>\n",
       "      <td>0</td>\n",
       "      <td>1</td>\n",
       "      <td>0</td>\n",
       "      <td>0</td>\n",
       "      <td>0</td>\n",
       "      <td>1</td>\n",
       "      <td>0</td>\n",
       "      <td>0</td>\n",
       "      <td>0</td>\n",
       "      <td>0</td>\n",
       "      <td>1</td>\n",
       "      <td>0</td>\n",
       "      <td>1</td>\n",
       "    </tr>\n",
       "    <tr>\n",
       "      <th>4</th>\n",
       "      <td>5</td>\n",
       "      <td>2</td>\n",
       "      <td>2</td>\n",
       "      <td>184</td>\n",
       "      <td>3</td>\n",
       "      <td>46</td>\n",
       "      <td>2484</td>\n",
       "      <td>1</td>\n",
       "      <td>0</td>\n",
       "      <td>0</td>\n",
       "      <td>1</td>\n",
       "      <td>0</td>\n",
       "      <td>0</td>\n",
       "      <td>1</td>\n",
       "      <td>0</td>\n",
       "      <td>0</td>\n",
       "      <td>0</td>\n",
       "      <td>0</td>\n",
       "      <td>1</td>\n",
       "      <td>1</td>\n",
       "      <td>0</td>\n",
       "    </tr>\n",
       "  </tbody>\n",
       "</table>\n",
       "</div>"
      ],
      "text/plain": [
       "   ID  Customer_care_calls  ...  Gender_F  Gender_M\n",
       "0   1                    4  ...         1         0\n",
       "1   2                    4  ...         0         1\n",
       "2   3                    2  ...         0         1\n",
       "3   4                    3  ...         0         1\n",
       "4   5                    2  ...         1         0\n",
       "\n",
       "[5 rows x 21 columns]"
      ]
     },
     "execution_count": 22,
     "metadata": {
      "tags": []
     },
     "output_type": "execute_result"
    }
   ],
   "source": [
    "df1.head()"
   ]
  },
  {
   "cell_type": "code",
   "execution_count": 23,
   "id": "B8PnkP5WfD5w",
   "metadata": {
    "id": "B8PnkP5WfD5w"
   },
   "outputs": [],
   "source": [
    "df1= df1.drop(['ID'],1)"
   ]
  },
  {
   "cell_type": "code",
   "execution_count": 24,
   "id": "2FZ3tkMeZ4o9",
   "metadata": {
    "colab": {
     "base_uri": "https://localhost:8080/",
     "height": 439
    },
    "id": "2FZ3tkMeZ4o9",
    "outputId": "9bd5cf52-0f4a-4df6-dd66-b2df30a62331"
   },
   "outputs": [
    {
     "data": {
      "text/html": [
       "<div>\n",
       "<style scoped>\n",
       "    .dataframe tbody tr th:only-of-type {\n",
       "        vertical-align: middle;\n",
       "    }\n",
       "\n",
       "    .dataframe tbody tr th {\n",
       "        vertical-align: top;\n",
       "    }\n",
       "\n",
       "    .dataframe thead th {\n",
       "        text-align: right;\n",
       "    }\n",
       "</style>\n",
       "<table border=\"1\" class=\"dataframe\">\n",
       "  <thead>\n",
       "    <tr style=\"text-align: right;\">\n",
       "      <th></th>\n",
       "      <th>Customer_care_calls</th>\n",
       "      <th>Customer_rating</th>\n",
       "      <th>Cost_of_the_Product</th>\n",
       "      <th>Prior_purchases</th>\n",
       "      <th>Discount_offered</th>\n",
       "      <th>Weight_in_gms</th>\n",
       "      <th>Reached.on.Time_Y.N</th>\n",
       "      <th>Warehouse_block_A</th>\n",
       "      <th>Warehouse_block_B</th>\n",
       "      <th>Warehouse_block_C</th>\n",
       "      <th>Warehouse_block_D</th>\n",
       "      <th>Warehouse_block_F</th>\n",
       "      <th>Mode_of_Shipment_Flight</th>\n",
       "      <th>Mode_of_Shipment_Road</th>\n",
       "      <th>Mode_of_Shipment_Ship</th>\n",
       "      <th>Product_importance_high</th>\n",
       "      <th>Product_importance_low</th>\n",
       "      <th>Product_importance_medium</th>\n",
       "      <th>Gender_F</th>\n",
       "      <th>Gender_M</th>\n",
       "    </tr>\n",
       "  </thead>\n",
       "  <tbody>\n",
       "    <tr>\n",
       "      <th>0</th>\n",
       "      <td>4</td>\n",
       "      <td>2</td>\n",
       "      <td>177</td>\n",
       "      <td>3</td>\n",
       "      <td>44</td>\n",
       "      <td>1233</td>\n",
       "      <td>1</td>\n",
       "      <td>0</td>\n",
       "      <td>0</td>\n",
       "      <td>0</td>\n",
       "      <td>1</td>\n",
       "      <td>0</td>\n",
       "      <td>1</td>\n",
       "      <td>0</td>\n",
       "      <td>0</td>\n",
       "      <td>0</td>\n",
       "      <td>1</td>\n",
       "      <td>0</td>\n",
       "      <td>1</td>\n",
       "      <td>0</td>\n",
       "    </tr>\n",
       "    <tr>\n",
       "      <th>1</th>\n",
       "      <td>4</td>\n",
       "      <td>5</td>\n",
       "      <td>216</td>\n",
       "      <td>2</td>\n",
       "      <td>59</td>\n",
       "      <td>3088</td>\n",
       "      <td>1</td>\n",
       "      <td>0</td>\n",
       "      <td>0</td>\n",
       "      <td>0</td>\n",
       "      <td>0</td>\n",
       "      <td>1</td>\n",
       "      <td>1</td>\n",
       "      <td>0</td>\n",
       "      <td>0</td>\n",
       "      <td>0</td>\n",
       "      <td>1</td>\n",
       "      <td>0</td>\n",
       "      <td>0</td>\n",
       "      <td>1</td>\n",
       "    </tr>\n",
       "    <tr>\n",
       "      <th>2</th>\n",
       "      <td>2</td>\n",
       "      <td>2</td>\n",
       "      <td>183</td>\n",
       "      <td>4</td>\n",
       "      <td>48</td>\n",
       "      <td>3374</td>\n",
       "      <td>1</td>\n",
       "      <td>1</td>\n",
       "      <td>0</td>\n",
       "      <td>0</td>\n",
       "      <td>0</td>\n",
       "      <td>0</td>\n",
       "      <td>1</td>\n",
       "      <td>0</td>\n",
       "      <td>0</td>\n",
       "      <td>0</td>\n",
       "      <td>1</td>\n",
       "      <td>0</td>\n",
       "      <td>0</td>\n",
       "      <td>1</td>\n",
       "    </tr>\n",
       "    <tr>\n",
       "      <th>3</th>\n",
       "      <td>3</td>\n",
       "      <td>3</td>\n",
       "      <td>176</td>\n",
       "      <td>4</td>\n",
       "      <td>10</td>\n",
       "      <td>1177</td>\n",
       "      <td>1</td>\n",
       "      <td>0</td>\n",
       "      <td>1</td>\n",
       "      <td>0</td>\n",
       "      <td>0</td>\n",
       "      <td>0</td>\n",
       "      <td>1</td>\n",
       "      <td>0</td>\n",
       "      <td>0</td>\n",
       "      <td>0</td>\n",
       "      <td>0</td>\n",
       "      <td>1</td>\n",
       "      <td>0</td>\n",
       "      <td>1</td>\n",
       "    </tr>\n",
       "    <tr>\n",
       "      <th>4</th>\n",
       "      <td>2</td>\n",
       "      <td>2</td>\n",
       "      <td>184</td>\n",
       "      <td>3</td>\n",
       "      <td>46</td>\n",
       "      <td>2484</td>\n",
       "      <td>1</td>\n",
       "      <td>0</td>\n",
       "      <td>0</td>\n",
       "      <td>1</td>\n",
       "      <td>0</td>\n",
       "      <td>0</td>\n",
       "      <td>1</td>\n",
       "      <td>0</td>\n",
       "      <td>0</td>\n",
       "      <td>0</td>\n",
       "      <td>0</td>\n",
       "      <td>1</td>\n",
       "      <td>1</td>\n",
       "      <td>0</td>\n",
       "    </tr>\n",
       "    <tr>\n",
       "      <th>...</th>\n",
       "      <td>...</td>\n",
       "      <td>...</td>\n",
       "      <td>...</td>\n",
       "      <td>...</td>\n",
       "      <td>...</td>\n",
       "      <td>...</td>\n",
       "      <td>...</td>\n",
       "      <td>...</td>\n",
       "      <td>...</td>\n",
       "      <td>...</td>\n",
       "      <td>...</td>\n",
       "      <td>...</td>\n",
       "      <td>...</td>\n",
       "      <td>...</td>\n",
       "      <td>...</td>\n",
       "      <td>...</td>\n",
       "      <td>...</td>\n",
       "      <td>...</td>\n",
       "      <td>...</td>\n",
       "      <td>...</td>\n",
       "    </tr>\n",
       "    <tr>\n",
       "      <th>10994</th>\n",
       "      <td>4</td>\n",
       "      <td>1</td>\n",
       "      <td>252</td>\n",
       "      <td>5</td>\n",
       "      <td>1</td>\n",
       "      <td>1538</td>\n",
       "      <td>1</td>\n",
       "      <td>1</td>\n",
       "      <td>0</td>\n",
       "      <td>0</td>\n",
       "      <td>0</td>\n",
       "      <td>0</td>\n",
       "      <td>0</td>\n",
       "      <td>0</td>\n",
       "      <td>1</td>\n",
       "      <td>0</td>\n",
       "      <td>0</td>\n",
       "      <td>1</td>\n",
       "      <td>1</td>\n",
       "      <td>0</td>\n",
       "    </tr>\n",
       "    <tr>\n",
       "      <th>10995</th>\n",
       "      <td>4</td>\n",
       "      <td>1</td>\n",
       "      <td>232</td>\n",
       "      <td>5</td>\n",
       "      <td>6</td>\n",
       "      <td>1247</td>\n",
       "      <td>0</td>\n",
       "      <td>0</td>\n",
       "      <td>1</td>\n",
       "      <td>0</td>\n",
       "      <td>0</td>\n",
       "      <td>0</td>\n",
       "      <td>0</td>\n",
       "      <td>0</td>\n",
       "      <td>1</td>\n",
       "      <td>0</td>\n",
       "      <td>0</td>\n",
       "      <td>1</td>\n",
       "      <td>1</td>\n",
       "      <td>0</td>\n",
       "    </tr>\n",
       "    <tr>\n",
       "      <th>10996</th>\n",
       "      <td>5</td>\n",
       "      <td>4</td>\n",
       "      <td>242</td>\n",
       "      <td>5</td>\n",
       "      <td>4</td>\n",
       "      <td>1155</td>\n",
       "      <td>0</td>\n",
       "      <td>0</td>\n",
       "      <td>0</td>\n",
       "      <td>1</td>\n",
       "      <td>0</td>\n",
       "      <td>0</td>\n",
       "      <td>0</td>\n",
       "      <td>0</td>\n",
       "      <td>1</td>\n",
       "      <td>0</td>\n",
       "      <td>1</td>\n",
       "      <td>0</td>\n",
       "      <td>1</td>\n",
       "      <td>0</td>\n",
       "    </tr>\n",
       "    <tr>\n",
       "      <th>10997</th>\n",
       "      <td>5</td>\n",
       "      <td>2</td>\n",
       "      <td>223</td>\n",
       "      <td>6</td>\n",
       "      <td>2</td>\n",
       "      <td>1210</td>\n",
       "      <td>0</td>\n",
       "      <td>0</td>\n",
       "      <td>0</td>\n",
       "      <td>0</td>\n",
       "      <td>0</td>\n",
       "      <td>1</td>\n",
       "      <td>0</td>\n",
       "      <td>0</td>\n",
       "      <td>1</td>\n",
       "      <td>0</td>\n",
       "      <td>0</td>\n",
       "      <td>1</td>\n",
       "      <td>0</td>\n",
       "      <td>1</td>\n",
       "    </tr>\n",
       "    <tr>\n",
       "      <th>10998</th>\n",
       "      <td>2</td>\n",
       "      <td>5</td>\n",
       "      <td>155</td>\n",
       "      <td>5</td>\n",
       "      <td>6</td>\n",
       "      <td>1639</td>\n",
       "      <td>0</td>\n",
       "      <td>0</td>\n",
       "      <td>0</td>\n",
       "      <td>0</td>\n",
       "      <td>1</td>\n",
       "      <td>0</td>\n",
       "      <td>0</td>\n",
       "      <td>0</td>\n",
       "      <td>1</td>\n",
       "      <td>0</td>\n",
       "      <td>1</td>\n",
       "      <td>0</td>\n",
       "      <td>1</td>\n",
       "      <td>0</td>\n",
       "    </tr>\n",
       "  </tbody>\n",
       "</table>\n",
       "<p>10999 rows × 20 columns</p>\n",
       "</div>"
      ],
      "text/plain": [
       "       Customer_care_calls  Customer_rating  ...  Gender_F  Gender_M\n",
       "0                        4                2  ...         1         0\n",
       "1                        4                5  ...         0         1\n",
       "2                        2                2  ...         0         1\n",
       "3                        3                3  ...         0         1\n",
       "4                        2                2  ...         1         0\n",
       "...                    ...              ...  ...       ...       ...\n",
       "10994                    4                1  ...         1         0\n",
       "10995                    4                1  ...         1         0\n",
       "10996                    5                4  ...         1         0\n",
       "10997                    5                2  ...         0         1\n",
       "10998                    2                5  ...         1         0\n",
       "\n",
       "[10999 rows x 20 columns]"
      ]
     },
     "execution_count": 24,
     "metadata": {
      "tags": []
     },
     "output_type": "execute_result"
    }
   ],
   "source": [
    "df1"
   ]
  },
  {
   "cell_type": "code",
   "execution_count": 25,
   "id": "TSyLjCP926Vs",
   "metadata": {
    "id": "TSyLjCP926Vs"
   },
   "outputs": [],
   "source": [
    "def get_preprocessing(df):\n",
    "  df = pd.get_dummies(df)\n",
    "  df = df.drop(['ID'], axis = 1)\n",
    "  df['Cost_per_Purchase'] = df['Cost_of_the_Product']/ df['Prior_purchases']\n",
    "  df['Final_Cost'] = df['Cost_of_the_Product'] - df['Discount_offered']\n",
    "  df['Cost_per_Weight'] = df['Cost_of_the_Product'] / df['Weight_in_gms']\n",
    "  df['Calls_per_Rating'] = df['Customer_care_calls'] / df['Customer_rating']\n",
    "  df['Calls_diff_Rating'] = df['Customer_care_calls'] - df['Customer_rating']\n",
    "  df['Calls_per_Purchase'] = df['Customer_care_calls'] / df['Prior_purchases']\n",
    "  df['Positivity'] = df['Customer_rating'] - df['Customer_care_calls']\n",
    "  return df"
   ]
  },
  {
   "cell_type": "code",
   "execution_count": 26,
   "id": "VUQ4AE5v3xFp",
   "metadata": {
    "colab": {
     "base_uri": "https://localhost:8080/",
     "height": 439
    },
    "id": "VUQ4AE5v3xFp",
    "outputId": "e9634552-bc89-4dbd-9516-9c83249a278e"
   },
   "outputs": [
    {
     "data": {
      "text/html": [
       "<div>\n",
       "<style scoped>\n",
       "    .dataframe tbody tr th:only-of-type {\n",
       "        vertical-align: middle;\n",
       "    }\n",
       "\n",
       "    .dataframe tbody tr th {\n",
       "        vertical-align: top;\n",
       "    }\n",
       "\n",
       "    .dataframe thead th {\n",
       "        text-align: right;\n",
       "    }\n",
       "</style>\n",
       "<table border=\"1\" class=\"dataframe\">\n",
       "  <thead>\n",
       "    <tr style=\"text-align: right;\">\n",
       "      <th></th>\n",
       "      <th>Customer_care_calls</th>\n",
       "      <th>Customer_rating</th>\n",
       "      <th>Cost_of_the_Product</th>\n",
       "      <th>Prior_purchases</th>\n",
       "      <th>Discount_offered</th>\n",
       "      <th>Weight_in_gms</th>\n",
       "      <th>Reached.on.Time_Y.N</th>\n",
       "      <th>Warehouse_block_A</th>\n",
       "      <th>Warehouse_block_B</th>\n",
       "      <th>Warehouse_block_C</th>\n",
       "      <th>Warehouse_block_D</th>\n",
       "      <th>Warehouse_block_F</th>\n",
       "      <th>Mode_of_Shipment_Flight</th>\n",
       "      <th>Mode_of_Shipment_Road</th>\n",
       "      <th>Mode_of_Shipment_Ship</th>\n",
       "      <th>Product_importance_high</th>\n",
       "      <th>Product_importance_low</th>\n",
       "      <th>Product_importance_medium</th>\n",
       "      <th>Gender_F</th>\n",
       "      <th>Gender_M</th>\n",
       "      <th>Cost_per_Purchase</th>\n",
       "      <th>Final_Cost</th>\n",
       "      <th>Cost_per_Weight</th>\n",
       "      <th>Calls_per_Rating</th>\n",
       "      <th>Calls_diff_Rating</th>\n",
       "      <th>Calls_per_Purchase</th>\n",
       "      <th>Positivity</th>\n",
       "    </tr>\n",
       "  </thead>\n",
       "  <tbody>\n",
       "    <tr>\n",
       "      <th>0</th>\n",
       "      <td>4</td>\n",
       "      <td>2</td>\n",
       "      <td>177</td>\n",
       "      <td>3</td>\n",
       "      <td>44</td>\n",
       "      <td>1233</td>\n",
       "      <td>1</td>\n",
       "      <td>0</td>\n",
       "      <td>0</td>\n",
       "      <td>0</td>\n",
       "      <td>1</td>\n",
       "      <td>0</td>\n",
       "      <td>1</td>\n",
       "      <td>0</td>\n",
       "      <td>0</td>\n",
       "      <td>0</td>\n",
       "      <td>1</td>\n",
       "      <td>0</td>\n",
       "      <td>1</td>\n",
       "      <td>0</td>\n",
       "      <td>59.000000</td>\n",
       "      <td>133</td>\n",
       "      <td>0.143552</td>\n",
       "      <td>2.00</td>\n",
       "      <td>2</td>\n",
       "      <td>1.333333</td>\n",
       "      <td>-2</td>\n",
       "    </tr>\n",
       "    <tr>\n",
       "      <th>1</th>\n",
       "      <td>4</td>\n",
       "      <td>5</td>\n",
       "      <td>216</td>\n",
       "      <td>2</td>\n",
       "      <td>59</td>\n",
       "      <td>3088</td>\n",
       "      <td>1</td>\n",
       "      <td>0</td>\n",
       "      <td>0</td>\n",
       "      <td>0</td>\n",
       "      <td>0</td>\n",
       "      <td>1</td>\n",
       "      <td>1</td>\n",
       "      <td>0</td>\n",
       "      <td>0</td>\n",
       "      <td>0</td>\n",
       "      <td>1</td>\n",
       "      <td>0</td>\n",
       "      <td>0</td>\n",
       "      <td>1</td>\n",
       "      <td>108.000000</td>\n",
       "      <td>157</td>\n",
       "      <td>0.069948</td>\n",
       "      <td>0.80</td>\n",
       "      <td>-1</td>\n",
       "      <td>2.000000</td>\n",
       "      <td>1</td>\n",
       "    </tr>\n",
       "    <tr>\n",
       "      <th>2</th>\n",
       "      <td>2</td>\n",
       "      <td>2</td>\n",
       "      <td>183</td>\n",
       "      <td>4</td>\n",
       "      <td>48</td>\n",
       "      <td>3374</td>\n",
       "      <td>1</td>\n",
       "      <td>1</td>\n",
       "      <td>0</td>\n",
       "      <td>0</td>\n",
       "      <td>0</td>\n",
       "      <td>0</td>\n",
       "      <td>1</td>\n",
       "      <td>0</td>\n",
       "      <td>0</td>\n",
       "      <td>0</td>\n",
       "      <td>1</td>\n",
       "      <td>0</td>\n",
       "      <td>0</td>\n",
       "      <td>1</td>\n",
       "      <td>45.750000</td>\n",
       "      <td>135</td>\n",
       "      <td>0.054238</td>\n",
       "      <td>1.00</td>\n",
       "      <td>0</td>\n",
       "      <td>0.500000</td>\n",
       "      <td>0</td>\n",
       "    </tr>\n",
       "    <tr>\n",
       "      <th>3</th>\n",
       "      <td>3</td>\n",
       "      <td>3</td>\n",
       "      <td>176</td>\n",
       "      <td>4</td>\n",
       "      <td>10</td>\n",
       "      <td>1177</td>\n",
       "      <td>1</td>\n",
       "      <td>0</td>\n",
       "      <td>1</td>\n",
       "      <td>0</td>\n",
       "      <td>0</td>\n",
       "      <td>0</td>\n",
       "      <td>1</td>\n",
       "      <td>0</td>\n",
       "      <td>0</td>\n",
       "      <td>0</td>\n",
       "      <td>0</td>\n",
       "      <td>1</td>\n",
       "      <td>0</td>\n",
       "      <td>1</td>\n",
       "      <td>44.000000</td>\n",
       "      <td>166</td>\n",
       "      <td>0.149533</td>\n",
       "      <td>1.00</td>\n",
       "      <td>0</td>\n",
       "      <td>0.750000</td>\n",
       "      <td>0</td>\n",
       "    </tr>\n",
       "    <tr>\n",
       "      <th>4</th>\n",
       "      <td>2</td>\n",
       "      <td>2</td>\n",
       "      <td>184</td>\n",
       "      <td>3</td>\n",
       "      <td>46</td>\n",
       "      <td>2484</td>\n",
       "      <td>1</td>\n",
       "      <td>0</td>\n",
       "      <td>0</td>\n",
       "      <td>1</td>\n",
       "      <td>0</td>\n",
       "      <td>0</td>\n",
       "      <td>1</td>\n",
       "      <td>0</td>\n",
       "      <td>0</td>\n",
       "      <td>0</td>\n",
       "      <td>0</td>\n",
       "      <td>1</td>\n",
       "      <td>1</td>\n",
       "      <td>0</td>\n",
       "      <td>61.333333</td>\n",
       "      <td>138</td>\n",
       "      <td>0.074074</td>\n",
       "      <td>1.00</td>\n",
       "      <td>0</td>\n",
       "      <td>0.666667</td>\n",
       "      <td>0</td>\n",
       "    </tr>\n",
       "    <tr>\n",
       "      <th>...</th>\n",
       "      <td>...</td>\n",
       "      <td>...</td>\n",
       "      <td>...</td>\n",
       "      <td>...</td>\n",
       "      <td>...</td>\n",
       "      <td>...</td>\n",
       "      <td>...</td>\n",
       "      <td>...</td>\n",
       "      <td>...</td>\n",
       "      <td>...</td>\n",
       "      <td>...</td>\n",
       "      <td>...</td>\n",
       "      <td>...</td>\n",
       "      <td>...</td>\n",
       "      <td>...</td>\n",
       "      <td>...</td>\n",
       "      <td>...</td>\n",
       "      <td>...</td>\n",
       "      <td>...</td>\n",
       "      <td>...</td>\n",
       "      <td>...</td>\n",
       "      <td>...</td>\n",
       "      <td>...</td>\n",
       "      <td>...</td>\n",
       "      <td>...</td>\n",
       "      <td>...</td>\n",
       "      <td>...</td>\n",
       "    </tr>\n",
       "    <tr>\n",
       "      <th>10994</th>\n",
       "      <td>4</td>\n",
       "      <td>1</td>\n",
       "      <td>252</td>\n",
       "      <td>5</td>\n",
       "      <td>1</td>\n",
       "      <td>1538</td>\n",
       "      <td>1</td>\n",
       "      <td>1</td>\n",
       "      <td>0</td>\n",
       "      <td>0</td>\n",
       "      <td>0</td>\n",
       "      <td>0</td>\n",
       "      <td>0</td>\n",
       "      <td>0</td>\n",
       "      <td>1</td>\n",
       "      <td>0</td>\n",
       "      <td>0</td>\n",
       "      <td>1</td>\n",
       "      <td>1</td>\n",
       "      <td>0</td>\n",
       "      <td>50.400000</td>\n",
       "      <td>251</td>\n",
       "      <td>0.163849</td>\n",
       "      <td>4.00</td>\n",
       "      <td>3</td>\n",
       "      <td>0.800000</td>\n",
       "      <td>-3</td>\n",
       "    </tr>\n",
       "    <tr>\n",
       "      <th>10995</th>\n",
       "      <td>4</td>\n",
       "      <td>1</td>\n",
       "      <td>232</td>\n",
       "      <td>5</td>\n",
       "      <td>6</td>\n",
       "      <td>1247</td>\n",
       "      <td>0</td>\n",
       "      <td>0</td>\n",
       "      <td>1</td>\n",
       "      <td>0</td>\n",
       "      <td>0</td>\n",
       "      <td>0</td>\n",
       "      <td>0</td>\n",
       "      <td>0</td>\n",
       "      <td>1</td>\n",
       "      <td>0</td>\n",
       "      <td>0</td>\n",
       "      <td>1</td>\n",
       "      <td>1</td>\n",
       "      <td>0</td>\n",
       "      <td>46.400000</td>\n",
       "      <td>226</td>\n",
       "      <td>0.186047</td>\n",
       "      <td>4.00</td>\n",
       "      <td>3</td>\n",
       "      <td>0.800000</td>\n",
       "      <td>-3</td>\n",
       "    </tr>\n",
       "    <tr>\n",
       "      <th>10996</th>\n",
       "      <td>5</td>\n",
       "      <td>4</td>\n",
       "      <td>242</td>\n",
       "      <td>5</td>\n",
       "      <td>4</td>\n",
       "      <td>1155</td>\n",
       "      <td>0</td>\n",
       "      <td>0</td>\n",
       "      <td>0</td>\n",
       "      <td>1</td>\n",
       "      <td>0</td>\n",
       "      <td>0</td>\n",
       "      <td>0</td>\n",
       "      <td>0</td>\n",
       "      <td>1</td>\n",
       "      <td>0</td>\n",
       "      <td>1</td>\n",
       "      <td>0</td>\n",
       "      <td>1</td>\n",
       "      <td>0</td>\n",
       "      <td>48.400000</td>\n",
       "      <td>238</td>\n",
       "      <td>0.209524</td>\n",
       "      <td>1.25</td>\n",
       "      <td>1</td>\n",
       "      <td>1.000000</td>\n",
       "      <td>-1</td>\n",
       "    </tr>\n",
       "    <tr>\n",
       "      <th>10997</th>\n",
       "      <td>5</td>\n",
       "      <td>2</td>\n",
       "      <td>223</td>\n",
       "      <td>6</td>\n",
       "      <td>2</td>\n",
       "      <td>1210</td>\n",
       "      <td>0</td>\n",
       "      <td>0</td>\n",
       "      <td>0</td>\n",
       "      <td>0</td>\n",
       "      <td>0</td>\n",
       "      <td>1</td>\n",
       "      <td>0</td>\n",
       "      <td>0</td>\n",
       "      <td>1</td>\n",
       "      <td>0</td>\n",
       "      <td>0</td>\n",
       "      <td>1</td>\n",
       "      <td>0</td>\n",
       "      <td>1</td>\n",
       "      <td>37.166667</td>\n",
       "      <td>221</td>\n",
       "      <td>0.184298</td>\n",
       "      <td>2.50</td>\n",
       "      <td>3</td>\n",
       "      <td>0.833333</td>\n",
       "      <td>-3</td>\n",
       "    </tr>\n",
       "    <tr>\n",
       "      <th>10998</th>\n",
       "      <td>2</td>\n",
       "      <td>5</td>\n",
       "      <td>155</td>\n",
       "      <td>5</td>\n",
       "      <td>6</td>\n",
       "      <td>1639</td>\n",
       "      <td>0</td>\n",
       "      <td>0</td>\n",
       "      <td>0</td>\n",
       "      <td>0</td>\n",
       "      <td>1</td>\n",
       "      <td>0</td>\n",
       "      <td>0</td>\n",
       "      <td>0</td>\n",
       "      <td>1</td>\n",
       "      <td>0</td>\n",
       "      <td>1</td>\n",
       "      <td>0</td>\n",
       "      <td>1</td>\n",
       "      <td>0</td>\n",
       "      <td>31.000000</td>\n",
       "      <td>149</td>\n",
       "      <td>0.094570</td>\n",
       "      <td>0.40</td>\n",
       "      <td>-3</td>\n",
       "      <td>0.400000</td>\n",
       "      <td>3</td>\n",
       "    </tr>\n",
       "  </tbody>\n",
       "</table>\n",
       "<p>10999 rows × 27 columns</p>\n",
       "</div>"
      ],
      "text/plain": [
       "       Customer_care_calls  Customer_rating  ...  Calls_per_Purchase  Positivity\n",
       "0                        4                2  ...            1.333333          -2\n",
       "1                        4                5  ...            2.000000           1\n",
       "2                        2                2  ...            0.500000           0\n",
       "3                        3                3  ...            0.750000           0\n",
       "4                        2                2  ...            0.666667           0\n",
       "...                    ...              ...  ...                 ...         ...\n",
       "10994                    4                1  ...            0.800000          -3\n",
       "10995                    4                1  ...            0.800000          -3\n",
       "10996                    5                4  ...            1.000000          -1\n",
       "10997                    5                2  ...            0.833333          -3\n",
       "10998                    2                5  ...            0.400000           3\n",
       "\n",
       "[10999 rows x 27 columns]"
      ]
     },
     "execution_count": 26,
     "metadata": {
      "tags": []
     },
     "output_type": "execute_result"
    }
   ],
   "source": [
    "df_with_added_features = get_preprocessing(df)\n",
    "df_with_added_features"
   ]
  },
  {
   "cell_type": "code",
   "execution_count": 27,
   "id": "50ddbrnC52gl",
   "metadata": {
    "id": "50ddbrnC52gl"
   },
   "outputs": [],
   "source": [
    "num_cols = ['Customer_care_calls', 'Customer_rating', 'Cost_of_the_Product',\n",
    "            'Prior_purchases', 'Discount_offered', 'Weight_in_gms',\n",
    "            'Reached.on.Time_Y.N', 'Cost_per_Purchase', 'Final_Cost', \n",
    "            'Cost_per_Weight', 'Calls_per_Rating', 'Calls_diff_Rating', \n",
    "            'Calls_per_Purchase', 'Positivity']"
   ]
  },
  {
   "cell_type": "code",
   "execution_count": 28,
   "id": "IgJ1GuQhfE-u",
   "metadata": {
    "colab": {
     "base_uri": "https://localhost:8080/",
     "height": 692
    },
    "id": "IgJ1GuQhfE-u",
    "outputId": "1aca5250-6b67-4390-988d-5a99a1434dec"
   },
   "outputs": [
    {
     "data": {
      "image/png": "[encoded data removed]",
      "text/plain": [
       "<Figure size 864x720 with 2 Axes>"
      ]
     },
     "metadata": {
      "needs_background": "light",
      "tags": []
     },
     "output_type": "display_data"
    }
   ],
   "source": [
    "#Using Pearson Correlation\n",
    "plt.figure(figsize=(12,10))\n",
    "cor = df.corr()\n",
    "sns.heatmap(cor, annot=True, cmap=plt.cm.Reds)\n",
    "plt.show()"
   ]
  },
  {
   "cell_type": "markdown",
   "id": "W2fUPGUPqYQQ",
   "metadata": {
    "id": "W2fUPGUPqYQQ"
   },
   "source": [
    "**Reached on time has high positive correlation with discount offered.**\n"
   ]
  },
  {
   "cell_type": "code",
   "execution_count": 85,
   "id": "I75nuUSf-rUD",
   "metadata": {
    "id": "I75nuUSf-rUD"
   },
   "outputs": [],
   "source": [
    "dfmini=df[['Customer_care_calls','Discount_offered','Weight_in_gms','Reached.on.Time_Y.N']]"
   ]
  },
  {
   "cell_type": "code",
   "execution_count": 86,
   "id": "cM6WQwPm-5uV",
   "metadata": {
    "colab": {
     "base_uri": "https://localhost:8080/"
    },
    "id": "cM6WQwPm-5uV",
    "outputId": "2483977e-b715-4ecc-a5ab-cbabbcbc1bc2"
   },
   "outputs": [
    {
     "name": "stdout",
     "output_type": "stream",
     "text": [
      "Cross-val accuracy:\n",
      "0.675334284178759\n"
     ]
    }
   ],
   "source": [
    "Xmini = dfmini.drop(['Reached.on.Time_Y.N'],1)\n",
    "ymini = dfmini['Reached.on.Time_Y.N']\n",
    "kfold = KFold(n_splits=5, random_state=42,shuffle=True)\n",
    "print(\"Cross-val accuracy:\")\n",
    "model = AdaBoostClassifier()\n",
    "cv_results = cross_val_score(model, Xmini, ymini, cv=kfold, scoring='accuracy')\n",
    "print(cv_results.mean())"
   ]
  },
  {
   "cell_type": "markdown",
   "id": "k4me8QCta_fs",
   "metadata": {
    "id": "k4me8QCta_fs"
   },
   "source": [
    "# Base Model: AdaBoostClassifier()"
   ]
  },
  {
   "cell_type": "markdown",
   "id": "XFCN1RMdmrmS",
   "metadata": {
    "id": "XFCN1RMdmrmS"
   },
   "source": [
    "# 4(a). Data Preprocessing on original dataset\n"
   ]
  },
  {
   "cell_type": "code",
   "execution_count": 29,
   "id": "LoMI6ay6fODC",
   "metadata": {
    "id": "LoMI6ay6fODC"
   },
   "outputs": [],
   "source": [
    "X = df1.drop(['Reached.on.Time_Y.N'],1)\n",
    "y = df1['Reached.on.Time_Y.N']"
   ]
  },
  {
   "cell_type": "code",
   "execution_count": 30,
   "id": "gM54uVXPfpnM",
   "metadata": {
    "id": "gM54uVXPfpnM"
   },
   "outputs": [],
   "source": [
    "from sklearn.model_selection import train_test_split\n",
    "X_train, X_test, y_train, y_test = train_test_split(X, y, test_size = 0.2, random_state = 43)"
   ]
  },
  {
   "cell_type": "code",
   "execution_count": 31,
   "id": "C8UefQn3frhn",
   "metadata": {
    "id": "C8UefQn3frhn"
   },
   "outputs": [],
   "source": [
    "from sklearn. preprocessing import StandardScaler\n",
    "scaler = StandardScaler()\n",
    "scaler.fit(X_train, y_train)\n",
    "X_train = scaler.transform(X_train)\n",
    "X_test = scaler.transform(X_test)"
   ]
  },
  {
   "cell_type": "code",
   "execution_count": 32,
   "id": "hcvfiBvfadxU",
   "metadata": {
    "colab": {
     "base_uri": "https://localhost:8080/"
    },
    "id": "hcvfiBvfadxU",
    "outputId": "c1d90456-3c98-460d-9036-f5dbb5fe7e5d"
   },
   "outputs": [
    {
     "name": "stdout",
     "output_type": "stream",
     "text": [
      "(8799, 19)\n",
      "(8799,)\n"
     ]
    }
   ],
   "source": [
    "print(X_train.shape)\n",
    "print(y_train.shape)"
   ]
  },
  {
   "cell_type": "markdown",
   "id": "0HXlm6SDmyr1",
   "metadata": {
    "id": "0HXlm6SDmyr1"
   },
   "source": [
    "# 4(b). Model Training on original dataset with base model\n"
   ]
  },
  {
   "cell_type": "code",
   "execution_count": 33,
   "id": "wJXfPoNCcVEE",
   "metadata": {
    "colab": {
     "base_uri": "https://localhost:8080/"
    },
    "id": "wJXfPoNCcVEE",
    "outputId": "acb0120b-fdfd-41c4-e5b3-8c6fab78302e"
   },
   "outputs": [
    {
     "name": "stdout",
     "output_type": "stream",
     "text": [
      "Accuracy on test set:\n",
      "0.69\n",
      "              precision    recall  f1-score   support\n",
      "\n",
      "           0       0.58      0.81      0.67       872\n",
      "           1       0.83      0.61      0.71      1328\n",
      "\n",
      "    accuracy                           0.69      2200\n",
      "   macro avg       0.70      0.71      0.69      2200\n",
      "weighted avg       0.73      0.69      0.69      2200\n",
      "\n",
      "Cross-val accuracy:\n",
      "0.6718933148999948\n"
     ]
    }
   ],
   "source": [
    "model = AdaBoostClassifier()\n",
    "\n",
    "model.fit(X_train,y_train)\n",
    "model_prediction = model.predict(X_test)\n",
    "accuracy = model.score(X_test,y_test)\n",
    "print(\"Accuracy on test set:\")\n",
    "print(accuracy)\n",
    "\n",
    "print(classification_report(y_test, model_prediction)) \n",
    "\n",
    "kfold = KFold(n_splits=5, random_state=42,shuffle=True)\n",
    "print(\"Cross-val accuracy:\")\n",
    "cv_results = cross_val_score(model, X_train, y_train, cv=kfold, scoring='accuracy')\n",
    "print(cv_results.mean())"
   ]
  },
  {
   "cell_type": "markdown",
   "id": "bQr4HXx2aKvu",
   "metadata": {
    "id": "bQr4HXx2aKvu"
   },
   "source": [
    "# 5(a). Data Preprocessing on added_features dataset"
   ]
  },
  {
   "cell_type": "code",
   "execution_count": 34,
   "id": "BXWtwE2caoCs",
   "metadata": {
    "id": "BXWtwE2caoCs"
   },
   "outputs": [],
   "source": [
    "X_added_features = df_with_added_features.drop(['Reached.on.Time_Y.N'],1)\n",
    "y_added_features = df_with_added_features['Reached.on.Time_Y.N']"
   ]
  },
  {
   "cell_type": "code",
   "execution_count": 35,
   "id": "rBTNC1euaoCs",
   "metadata": {
    "id": "rBTNC1euaoCs"
   },
   "outputs": [],
   "source": [
    "from sklearn.model_selection import train_test_split\n",
    "X_train_added_features, X_test_added_features, y_train_added_features, y_test_added_features = train_test_split(X_added_features, y_added_features, test_size = 0.2, random_state = 43)"
   ]
  },
  {
   "cell_type": "code",
   "execution_count": 36,
   "id": "JwE064X4aoCs",
   "metadata": {
    "id": "JwE064X4aoCs"
   },
   "outputs": [],
   "source": [
    "from sklearn. preprocessing import StandardScaler\n",
    "scaler = StandardScaler()\n",
    "scaler.fit(X_train_added_features, y_train_added_features)\n",
    "X_train_added_features = scaler.transform(X_train_added_features)\n",
    "X_test_added_features = scaler.transform(X_test_added_features)"
   ]
  },
  {
   "cell_type": "code",
   "execution_count": 37,
   "id": "iPM38PuBaoCs",
   "metadata": {
    "colab": {
     "base_uri": "https://localhost:8080/"
    },
    "id": "iPM38PuBaoCs",
    "outputId": "2da19f9a-0ab5-430c-f92b-83d88e42e57e"
   },
   "outputs": [
    {
     "name": "stdout",
     "output_type": "stream",
     "text": [
      "(8799, 26)\n",
      "(8799,)\n"
     ]
    }
   ],
   "source": [
    "print(X_train_added_features.shape)\n",
    "print(y_train_added_features.shape)"
   ]
  },
  {
   "cell_type": "markdown",
   "id": "uOy5C4PHbLaO",
   "metadata": {
    "id": "uOy5C4PHbLaO"
   },
   "source": [
    "# 5(b). Model Training on added_features dataset with base model"
   ]
  },
  {
   "cell_type": "code",
   "execution_count": 38,
   "id": "RoB2cs2cc1f1",
   "metadata": {
    "colab": {
     "base_uri": "https://localhost:8080/"
    },
    "id": "RoB2cs2cc1f1",
    "outputId": "795e45da-be11-452b-cb3b-905892ee1a0a"
   },
   "outputs": [
    {
     "name": "stdout",
     "output_type": "stream",
     "text": [
      "Accuracy on test set: \n",
      "0.6822727272727273\n",
      "              precision    recall  f1-score   support\n",
      "\n",
      "           0       0.56      0.88      0.69       872\n",
      "           1       0.87      0.55      0.68      1328\n",
      "\n",
      "    accuracy                           0.68      2200\n",
      "   macro avg       0.72      0.72      0.68      2200\n",
      "weighted avg       0.75      0.68      0.68      2200\n",
      "\n",
      "Cross-val accuracy:\n",
      "0.6753036766987279\n"
     ]
    }
   ],
   "source": [
    "model_added_features = AdaBoostClassifier()\n",
    "\n",
    "model_added_features.fit(X_train_added_features,y_train_added_features)\n",
    "model_prediction_added_features = model_added_features.predict(X_test_added_features)\n",
    "accuracy = model_added_features.score(X_test_added_features,y_test_added_features)\n",
    "print(\"Accuracy on test set: \")\n",
    "print(accuracy)\n",
    "\n",
    "print(classification_report(y_test_added_features, model_prediction_added_features)) \n",
    "\n",
    "kfold = KFold(n_splits=10, random_state=42,shuffle=True)\n",
    "print(\"Cross-val accuracy:\")\n",
    "cv_results = cross_val_score(model_added_features, X_train_added_features, y_train_added_features, cv=kfold, scoring='accuracy')\n",
    "print(cv_results.mean())"
   ]
  },
  {
   "cell_type": "markdown",
   "id": "MeabgbagfY_k",
   "metadata": {
    "id": "MeabgbagfY_k"
   },
   "source": [
    "# Observations: The dataset with added features performs better in all metrics used. Hence, we shall choose df_with_added_features as the final dataset"
   ]
  },
  {
   "cell_type": "markdown",
   "id": "IRN_Tp5ddKyl",
   "metadata": {
    "id": "IRN_Tp5ddKyl"
   },
   "source": [
    "# Models to be tested\n"
   ]
  },
  {
   "cell_type": "code",
   "execution_count": 39,
   "id": "WlcTgj9cj0wh",
   "metadata": {
    "colab": {
     "base_uri": "https://localhost:8080/"
    },
    "id": "WlcTgj9cj0wh",
    "outputId": "94703709-ebf0-4282-ae50-77b4cc2c65b3"
   },
   "outputs": [
    {
     "name": "stdout",
     "output_type": "stream",
     "text": [
      "LR: Accuracy on test set: 0.664091 Cross_val accuracy: (0.651550)\n",
      "LDA: Accuracy on test set: 0.657727 Cross_val accuracy: (0.655186)\n",
      "CART: Accuracy on test set: 0.636818 Cross_val accuracy: (0.640413)\n",
      "GNB: Accuracy on test set: 0.652273 Cross_val accuracy: (0.656665)\n"
     ]
    }
   ],
   "source": [
    "models = []\n",
    "models.append(('LR', LogisticRegression()))\n",
    "models.append(('LDA', LinearDiscriminantAnalysis()))\n",
    "models.append(('CART', DecisionTreeClassifier()))\n",
    "models.append(('GNB', GaussianNB()))\n",
    "for name, model in models:\n",
    "  kfold = KFold(n_splits=5, random_state=42,shuffle=True)\n",
    "  cv_result = cross_val_score(model, X_train_added_features, y_train_added_features, cv=kfold, scoring='accuracy')\n",
    "  model.fit(X_train_added_features, y_train_added_features)\n",
    "  model_predictions = model.predict(X_test_added_features)\n",
    "  accuracy = model.score(X_test_added_features,y_test_added_features)\n",
    "  msg = \"%s: Accuracy on test set: %f Cross_val accuracy: (%f)\" % (name, accuracy, cv_result.mean())\n",
    "  print(msg)"
   ]
  },
  {
   "cell_type": "code",
   "execution_count": 40,
   "id": "tX-TCgcOlCNb",
   "metadata": {
    "colab": {
     "base_uri": "https://localhost:8080/"
    },
    "id": "tX-TCgcOlCNb",
    "outputId": "8fdcbe91-4163-4462-a981-d79808f06deb"
   },
   "outputs": [
    {
     "name": "stdout",
     "output_type": "stream",
     "text": [
      "AB: Accuracy on test set: 0.682273 Cross_val accuracy: (0.676213)\n",
      "GBM: Accuracy on test set: 0.683182 Cross_val accuracy: (0.675190)\n",
      "RF: Accuracy on test set: 0.675909 Cross_val accuracy: (0.659051)\n",
      "ET: Accuracy on test set: 0.661818 Cross_val accuracy: (0.649845)\n"
     ]
    }
   ],
   "source": [
    "ensembles = []\n",
    "ensembles.append(('AB', AdaBoostClassifier()))\n",
    "ensembles.append(('GBM', GradientBoostingClassifier()))\n",
    "ensembles.append(('RF', RandomForestClassifier()))\n",
    "ensembles.append(('ET', ExtraTreesClassifier()))\n",
    "\n",
    "for name, model in ensembles:\n",
    "  kfold = KFold(n_splits=5, random_state=42,shuffle=True)\n",
    "  cv_results = cross_val_score(model, X_train_added_features, y_train_added_features, cv=kfold, scoring='accuracy')\n",
    "  model.fit(X_train_added_features, y_train_added_features)\n",
    "  model_predictions = model.predict(X_test_added_features)\n",
    "  accuracy = model.score(X_test_added_features,y_test_added_features)\n",
    "  msg = \"%s: Accuracy on test set: %f Cross_val accuracy: (%f)\" % (name, accuracy, cv_results.mean())\n",
    "  print(msg)"
   ]
  },
  {
   "cell_type": "markdown",
   "id": "cueI64to3mcW",
   "metadata": {
    "id": "cueI64to3mcW"
   },
   "source": [
    "# Hyperparametre tuning\n",
    "We shall find out the best possible hyperparametres for the above models using the kfold cv defined below\n"
   ]
  },
  {
   "cell_type": "code",
   "execution_count": 41,
   "id": "nyCCJbeBhS-M",
   "metadata": {
    "id": "nyCCJbeBhS-M"
   },
   "outputs": [],
   "source": [
    "kfold = KFold(n_splits=5, random_state=42,shuffle=True)"
   ]
  },
  {
   "cell_type": "code",
   "execution_count": 42,
   "id": "otHhRAnc3k-t",
   "metadata": {
    "colab": {
     "base_uri": "https://localhost:8080/"
    },
    "id": "otHhRAnc3k-t",
    "outputId": "2134dba0-2042-4aa7-d0b6-d50084714c86"
   },
   "outputs": [
    {
     "data": {
      "text/plain": [
       "LogisticRegression(C=1.0, class_weight=None, dual=False, fit_intercept=True,\n",
       "                   intercept_scaling=1, l1_ratio=None, max_iter=100,\n",
       "                   multi_class='auto', n_jobs=None, penalty='l2',\n",
       "                   random_state=None, solver='lbfgs', tol=0.0001, verbose=0,\n",
       "                   warm_start=False)"
      ]
     },
     "execution_count": 42,
     "metadata": {
      "tags": []
     },
     "output_type": "execute_result"
    }
   ],
   "source": [
    " LogisticRegression()"
   ]
  },
  {
   "cell_type": "code",
   "execution_count": 43,
   "id": "4tS6dgTV8vdY",
   "metadata": {
    "colab": {
     "base_uri": "https://localhost:8080/"
    },
    "id": "4tS6dgTV8vdY",
    "outputId": "2232990f-0451-4d60-aa74-1516180fbab7"
   },
   "outputs": [
    {
     "name": "stdout",
     "output_type": "stream",
     "text": [
      "Best Score: 0.6518909245955863\n",
      "Best Hyperparameters: {'C': 3}\n"
     ]
    }
   ],
   "source": [
    "# define model\n",
    "model = LogisticRegression(max_iter=1000)\n",
    "# define evaluation\n",
    "cv = kfold\n",
    "# define search space\n",
    "space = dict()\n",
    "space['C'] = [10**-4, 10**-2,10**-1, 1, 2,3,4,10**1,10**2]\n",
    "# define search\n",
    "search = GridSearchCV(model, space, scoring='accuracy', n_jobs=-1, cv=cv)\n",
    "# execute search\n",
    "result = search.fit(X_train_added_features, y_train_added_features)\n",
    "# summarize result\n",
    "print('Best Score: %s' % result.best_score_)\n",
    "print('Best Hyperparameters: %s' % result.best_params_)"
   ]
  },
  {
   "cell_type": "code",
   "execution_count": 44,
   "id": "Aa1-g7yz4N-k",
   "metadata": {
    "colab": {
     "base_uri": "https://localhost:8080/"
    },
    "id": "Aa1-g7yz4N-k",
    "outputId": "b7fe5422-4930-4ef9-ff5d-309c36d6292d"
   },
   "outputs": [
    {
     "data": {
      "text/plain": [
       "LinearDiscriminantAnalysis(n_components=None, priors=None, shrinkage=None,\n",
       "                           solver='svd', store_covariance=False, tol=0.0001)"
      ]
     },
     "execution_count": 44,
     "metadata": {
      "tags": []
     },
     "output_type": "execute_result"
    }
   ],
   "source": [
    "LinearDiscriminantAnalysis()"
   ]
  },
  {
   "cell_type": "code",
   "execution_count": 45,
   "id": "XFtn4C7j9iAJ",
   "metadata": {
    "colab": {
     "base_uri": "https://localhost:8080/"
    },
    "id": "XFtn4C7j9iAJ",
    "outputId": "61ca6802-14f9-4b24-aadd-d44b50477e2b"
   },
   "outputs": [
    {
     "name": "stdout",
     "output_type": "stream",
     "text": [
      "Best Score: 0.6551859915241097\n",
      "Best Hyperparameters: {'solver': 'svd'}\n"
     ]
    }
   ],
   "source": [
    "# define model\n",
    "model = LinearDiscriminantAnalysis()\n",
    "# define evaluation\n",
    "cv = kfold\n",
    "# define search space\n",
    "space = dict()\n",
    "space['solver'] = ['svd', 'lsqr', 'eigen']\n",
    "# define search\n",
    "search = GridSearchCV(model, space, scoring='accuracy', n_jobs=-1, cv=cv)\n",
    "# execute search\n",
    "result = search.fit(X_train_added_features, y_train_added_features)\n",
    "# summarize result\n",
    "print('Best Score: %s' % result.best_score_)\n",
    "print('Best Hyperparameters: %s' % result.best_params_)"
   ]
  },
  {
   "cell_type": "code",
   "execution_count": 46,
   "id": "LDwLHc7h4Qps",
   "metadata": {
    "colab": {
     "base_uri": "https://localhost:8080/"
    },
    "id": "LDwLHc7h4Qps",
    "outputId": "86f64f63-2d41-4e0e-bf94-99cbcda5f82b"
   },
   "outputs": [
    {
     "data": {
      "text/plain": [
       "DecisionTreeClassifier(ccp_alpha=0.0, class_weight=None, criterion='gini',\n",
       "                       max_depth=None, max_features=None, max_leaf_nodes=None,\n",
       "                       min_impurity_decrease=0.0, min_impurity_split=None,\n",
       "                       min_samples_leaf=1, min_samples_split=2,\n",
       "                       min_weight_fraction_leaf=0.0, presort='deprecated',\n",
       "                       random_state=None, splitter='best')"
      ]
     },
     "execution_count": 46,
     "metadata": {
      "tags": []
     },
     "output_type": "execute_result"
    }
   ],
   "source": [
    "DecisionTreeClassifier()"
   ]
  },
  {
   "cell_type": "code",
   "execution_count": 47,
   "id": "rY-T41iH-X55",
   "metadata": {
    "colab": {
     "base_uri": "https://localhost:8080/"
    },
    "id": "rY-T41iH-X55",
    "outputId": "f39776e9-96ea-4316-92a2-d0dafb09ddd6"
   },
   "outputs": [
    {
     "name": "stdout",
     "output_type": "stream",
     "text": [
      "Best Score: 0.6856450591761847\n",
      "Best Hyperparameters: {'max_depth': 4, 'min_samples_leaf': 1}\n"
     ]
    }
   ],
   "source": [
    "# define model\n",
    "model = DecisionTreeClassifier()\n",
    "# define evaluation\n",
    "cv = kfold\n",
    "# define search space\n",
    "space = dict()\n",
    "space['max_depth'] = [None,1,2,3,4,5]\n",
    "space['min_samples_leaf'] = [0.5,1,2,3,4,5]\n",
    "# define search\n",
    "search = GridSearchCV(model, space, scoring='accuracy', n_jobs=-1, cv=cv)\n",
    "# execute search\n",
    "result = search.fit(X_train_added_features, y_train_added_features)\n",
    "# summarize result\n",
    "print('Best Score: %s' % result.best_score_)\n",
    "print('Best Hyperparameters: %s' % result.best_params_)"
   ]
  },
  {
   "cell_type": "code",
   "execution_count": 48,
   "id": "soYuBwEF4R-V",
   "metadata": {
    "colab": {
     "base_uri": "https://localhost:8080/"
    },
    "id": "soYuBwEF4R-V",
    "outputId": "3b42a199-bfaa-4a54-84db-7e64dd326a54"
   },
   "outputs": [
    {
     "data": {
      "text/plain": [
       "GaussianNB(priors=None, var_smoothing=1e-09)"
      ]
     },
     "execution_count": 48,
     "metadata": {
      "tags": []
     },
     "output_type": "execute_result"
    }
   ],
   "source": [
    "GaussianNB()"
   ]
  },
  {
   "cell_type": "code",
   "execution_count": 49,
   "id": "l7wjp7Nu-8dI",
   "metadata": {
    "colab": {
     "base_uri": "https://localhost:8080/"
    },
    "id": "l7wjp7Nu-8dI",
    "outputId": "192f8818-ae35-494e-9369-c4262609487e"
   },
   "outputs": [
    {
     "name": "stdout",
     "output_type": "stream",
     "text": [
      "Best Score: 0.6566650085275725\n",
      "Best Hyperparameters: {'var_smoothing': 1e-14}\n"
     ]
    }
   ],
   "source": [
    "# define model\n",
    "model = GaussianNB()\n",
    "# define evaluation\n",
    "cv = kfold\n",
    "# define search space\n",
    "space = dict()\n",
    "space['var_smoothing'] = [1e-14,1e-13,1e-12,1e-11,1e-10,1e-09]\n",
    "# define search\n",
    "search = GridSearchCV(model, space, scoring='accuracy', n_jobs=-1, cv=cv)\n",
    "# execute search\n",
    "result = search.fit(X_train_added_features, y_train_added_features)\n",
    "# summarize result\n",
    "print('Best Score: %s' % result.best_score_)\n",
    "print('Best Hyperparameters: %s' % result.best_params_)"
   ]
  },
  {
   "cell_type": "code",
   "execution_count": 50,
   "id": "2x_ijtHd4GSk",
   "metadata": {
    "colab": {
     "base_uri": "https://localhost:8080/"
    },
    "id": "2x_ijtHd4GSk",
    "outputId": "b63d414c-7d35-4c0d-d762-7a1db68fdba2"
   },
   "outputs": [
    {
     "data": {
      "text/plain": [
       "AdaBoostClassifier(algorithm='SAMME.R', base_estimator=None, learning_rate=1.0,\n",
       "                   n_estimators=50, random_state=None)"
      ]
     },
     "execution_count": 50,
     "metadata": {
      "tags": []
     },
     "output_type": "execute_result"
    }
   ],
   "source": [
    "AdaBoostClassifier()"
   ]
  },
  {
   "cell_type": "code",
   "execution_count": 51,
   "id": "k46j3p0__f6C",
   "metadata": {
    "colab": {
     "base_uri": "https://localhost:8080/"
    },
    "id": "k46j3p0__f6C",
    "outputId": "ae87255b-3f42-4df5-d37e-c9ca05bb27ec"
   },
   "outputs": [
    {
     "name": "stdout",
     "output_type": "stream",
     "text": [
      "Best Score: 0.6835995400279085\n",
      "Best Hyperparameters: {'learning_rate': 0.1, 'n_estimators': 100}\n"
     ]
    }
   ],
   "source": [
    "# define model\n",
    "model = AdaBoostClassifier()\n",
    "# define evaluation\n",
    "cv = kfold\n",
    "# define search space\n",
    "space = dict()\n",
    "space['n_estimators'] = [50,100,200,500]\n",
    "space['learning_rate'] = [0.001,0.01,0.1,1,10]\n",
    "# define search\n",
    "search = GridSearchCV(model, space, scoring='accuracy', n_jobs=-1, cv=cv)\n",
    "# execute search\n",
    "result = search.fit(X_train_added_features, y_train_added_features)\n",
    "# summarize result\n",
    "print('Best Score: %s' % result.best_score_)\n",
    "print('Best Hyperparameters: %s' % result.best_params_)"
   ]
  },
  {
   "cell_type": "code",
   "execution_count": 52,
   "id": "7jLWhGf-4qG9",
   "metadata": {
    "colab": {
     "base_uri": "https://localhost:8080/"
    },
    "id": "7jLWhGf-4qG9",
    "outputId": "0945b427-12b6-4ef8-94e5-b9b01630700a"
   },
   "outputs": [
    {
     "data": {
      "text/plain": [
       "GradientBoostingClassifier(ccp_alpha=0.0, criterion='friedman_mse', init=None,\n",
       "                           learning_rate=0.1, loss='deviance', max_depth=3,\n",
       "                           max_features=None, max_leaf_nodes=None,\n",
       "                           min_impurity_decrease=0.0, min_impurity_split=None,\n",
       "                           min_samples_leaf=1, min_samples_split=2,\n",
       "                           min_weight_fraction_leaf=0.0, n_estimators=100,\n",
       "                           n_iter_no_change=None, presort='deprecated',\n",
       "                           random_state=None, subsample=1.0, tol=0.0001,\n",
       "                           validation_fraction=0.1, verbose=0,\n",
       "                           warm_start=False)"
      ]
     },
     "execution_count": 52,
     "metadata": {
      "tags": []
     },
     "output_type": "execute_result"
    }
   ],
   "source": [
    "GradientBoostingClassifier()"
   ]
  },
  {
   "cell_type": "code",
   "execution_count": null,
   "id": "Pxq7Whmq_0AY",
   "metadata": {
    "id": "Pxq7Whmq_0AY"
   },
   "outputs": [],
   "source": [
    "# define model\n",
    "model = GradientBoostingClassifier()\n",
    "# define evaluation\n",
    "cv = kfold\n",
    "# define search space\n",
    "space = dict()\n",
    "space['n_estimators'] = [50,100,200,500]\n",
    "space['learning_rate'] = [0.001,0.01,0.1,1,10]\n",
    "# define search\n",
    "search = GridSearchCV(model, space, scoring='accuracy', n_jobs=-1, cv=cv)\n",
    "# execute search\n",
    "result = search.fit(X_train_added_features, y_train_added_features)\n",
    "# summarize result\n",
    "print('Best Score: %s' % result.best_score_)\n",
    "print('Best Hyperparameters: %s' % result.best_params_)"
   ]
  },
  {
   "cell_type": "code",
   "execution_count": null,
   "id": "YOfjmJJP4qg0",
   "metadata": {
    "id": "YOfjmJJP4qg0"
   },
   "outputs": [],
   "source": [
    "RandomForestClassifier()"
   ]
  },
  {
   "cell_type": "code",
   "execution_count": null,
   "id": "T0hssA4W_8Ng",
   "metadata": {
    "id": "T0hssA4W_8Ng"
   },
   "outputs": [],
   "source": [
    "# define model\n",
    "model = RandomForestClassifier()\n",
    "# define evaluation\n",
    "cv = kfold\n",
    "# define search space\n",
    "space = dict()\n",
    "space['max_depth'] = [None,1,2,3,4,5]\n",
    "space['n_estimators'] = [50,100,200,500]\n",
    "# define search\n",
    "search = GridSearchCV(model, space, scoring='accuracy', n_jobs=-1, cv=cv)\n",
    "# execute search\n",
    "result = search.fit(X_train_added_features, y_train_added_features)\n",
    "# summarize result\n",
    "print('Best Score: %s' % result.best_score_)\n",
    "print('Best Hyperparameters: %s' % result.best_params_)"
   ]
  },
  {
   "cell_type": "code",
   "execution_count": null,
   "id": "etuV1iZ24r19",
   "metadata": {
    "id": "etuV1iZ24r19"
   },
   "outputs": [],
   "source": [
    "ExtraTreesClassifier()"
   ]
  },
  {
   "cell_type": "code",
   "execution_count": null,
   "id": "2b5Ic1aq_8vw",
   "metadata": {
    "id": "2b5Ic1aq_8vw"
   },
   "outputs": [],
   "source": [
    "# define model\n",
    "model = ExtraTreesClassifier()\n",
    "# define evaluation\n",
    "cv = kfold\n",
    "# define search space\n",
    "space = dict()\n",
    "space['max_depth'] = [None,1,2,3,4,5]\n",
    "space['n_estimators'] = [50,100,200,500]\n",
    "# define search\n",
    "search = GridSearchCV(model, space, scoring='accuracy', n_jobs=-1, cv=cv)\n",
    "# execute search\n",
    "result = search.fit(X_train_added_features, y_train_added_features)\n",
    "# summarize result\n",
    "print('Best Score: %s' % result.best_score_)\n",
    "print('Best Hyperparameters: %s' % result.best_params_)"
   ]
  },
  {
   "cell_type": "markdown",
   "id": "mfvBGDlyE-31",
   "metadata": {
    "id": "mfvBGDlyE-31"
   },
   "source": [
    "# Final Stacking Model "
   ]
  },
  {
   "cell_type": "markdown",
   "id": "pwXoi5tCjq_9",
   "metadata": {
    "id": "pwXoi5tCjq_9"
   },
   "source": [
    "Considering only those models that give greater than 68% Cross-val accuracy, we shall build a stacking ensemble model"
   ]
  },
  {
   "cell_type": "markdown",
   "id": "AKh81TKcn2K2",
   "metadata": {
    "id": "AKh81TKcn2K2"
   },
   "source": [
    "## With DecisionTreeClassifier() as final estimator"
   ]
  },
  {
   "cell_type": "code",
   "execution_count": null,
   "id": "jgPxmvAjFDBh",
   "metadata": {
    "id": "jgPxmvAjFDBh"
   },
   "outputs": [],
   "source": [
    "def get_stacking_model():\n",
    "    # define the base models\n",
    "    level0 = []\n",
    "    level0.append(('CART', DecisionTreeClassifier(max_depth= 4, min_samples_leaf= 1)))\n",
    "    level0.append(('AB', AdaBoostClassifier(learning_rate= 0.1, n_estimators= 100)))\n",
    "    level0.append(('GBM', GradientBoostingClassifier(learning_rate= 0.01, n_estimators= 200)))\n",
    "\n",
    "\n",
    "    # define meta learner model\n",
    "    level1 = DecisionTreeClassifier(max_depth= 4, min_samples_leaf= 1)\n",
    "    # define the stacking ensemble\n",
    "    model = StackingClassifier(estimators=level0, final_estimator=level1, cv=5)\n",
    "    return model"
   ]
  },
  {
   "cell_type": "code",
   "execution_count": 59,
   "id": "mRvTey3BfiHt",
   "metadata": {
    "colab": {
     "base_uri": "https://localhost:8080/"
    },
    "id": "mRvTey3BfiHt",
    "outputId": "aaacd527-0310-44b2-d83a-be07d8304d26"
   },
   "outputs": [
    {
     "name": "stdout",
     "output_type": "stream",
     "text": [
      "Accuracy on testing data:\n",
      "0.6890909090909091\n",
      "Cross_val accuracy:\n",
      "0.6806448653677193\n",
      "              precision    recall  f1-score   support\n",
      "\n",
      "           0       0.56      0.96      0.71       872\n",
      "           1       0.95      0.51      0.67      1328\n",
      "\n",
      "    accuracy                           0.69      2200\n",
      "   macro avg       0.76      0.73      0.69      2200\n",
      "weighted avg       0.80      0.69      0.68      2200\n",
      "\n"
     ]
    }
   ],
   "source": [
    "model = get_stacking_model()\n",
    "model.fit(X_train_added_features, y_train_added_features)\n",
    "model_predictions = model.predict(X_test_added_features)\n",
    "\n",
    "accuracy = model.score(X_test_added_features, y_test_added_features)\n",
    "print(\"Accuracy on testing data:\")\n",
    "print (accuracy)\n",
    "\n",
    "cv_result = cross_val_score(model, X_train_added_features, y_train_added_features, cv=kfold, scoring='accuracy')\n",
    "print(\"Cross_val accuracy:\")\n",
    "print(cv_result.mean())\n",
    "print(classification_report(y_test_added_features, model_predictions)) "
   ]
  },
  {
   "cell_type": "markdown",
   "id": "HS61MMF2n_jg",
   "metadata": {
    "id": "HS61MMF2n_jg"
   },
   "source": [
    "## With GradientBoostingClassifier() as final estimator"
   ]
  },
  {
   "cell_type": "code",
   "execution_count": 60,
   "id": "t6KeXs-RnCkm",
   "metadata": {
    "id": "t6KeXs-RnCkm"
   },
   "outputs": [],
   "source": [
    "def get_stacking_model():\n",
    "    # define the base models\n",
    "    level0 = []\n",
    "    level0.append(('CART', DecisionTreeClassifier(max_depth= 4, min_samples_leaf= 1)))\n",
    "    level0.append(('AB', AdaBoostClassifier(learning_rate= 0.1, n_estimators= 100)))\n",
    "    level0.append(('GBM', GradientBoostingClassifier(learning_rate= 0.01, n_estimators= 200)))\n",
    "\n",
    "\n",
    "    # define meta learner model\n",
    "    level1 = GradientBoostingClassifier(learning_rate= 0.01, n_estimators= 200)\n",
    "    # define the stacking ensemble\n",
    "    model = StackingClassifier(estimators=level0, final_estimator=level1, cv=5)\n",
    "    return model"
   ]
  },
  {
   "cell_type": "code",
   "execution_count": 61,
   "id": "syV-lXjVnCku",
   "metadata": {
    "colab": {
     "base_uri": "https://localhost:8080/"
    },
    "id": "syV-lXjVnCku",
    "outputId": "bdc6bf7c-15f0-4c44-97ad-105e5e023ee3"
   },
   "outputs": [
    {
     "name": "stdout",
     "output_type": "stream",
     "text": [
      "Accuracy on testing data:\n",
      "0.6909090909090909\n",
      "Cross_val accuracy:\n",
      "0.6816675926404466\n",
      "              precision    recall  f1-score   support\n",
      "\n",
      "           0       0.57      0.95      0.71       872\n",
      "           1       0.94      0.52      0.67      1328\n",
      "\n",
      "    accuracy                           0.69      2200\n",
      "   macro avg       0.75      0.73      0.69      2200\n",
      "weighted avg       0.79      0.69      0.69      2200\n",
      "\n"
     ]
    }
   ],
   "source": [
    "model = get_stacking_model()\n",
    "model.fit(X_train_added_features, y_train_added_features)\n",
    "model_predictions = model.predict(X_test_added_features)\n",
    "\n",
    "accuracy = model.score(X_test_added_features, y_test_added_features)\n",
    "print(\"Accuracy on testing data:\")\n",
    "print (accuracy)\n",
    "\n",
    "cv_result = cross_val_score(model, X_train_added_features, y_train_added_features, cv=kfold, scoring='accuracy')\n",
    "print(\"Cross_val accuracy:\")\n",
    "print(cv_result.mean())\n",
    "print(classification_report(y_test_added_features, model_predictions)) "
   ]
  },
  {
   "cell_type": "markdown",
   "id": "0nQ7BZgjoDX-",
   "metadata": {
    "id": "0nQ7BZgjoDX-"
   },
   "source": [
    "## With AdaBoostClassifier() as final estimator"
   ]
  },
  {
   "cell_type": "code",
   "execution_count": 62,
   "id": "qZM5USL-nkHW",
   "metadata": {
    "id": "qZM5USL-nkHW"
   },
   "outputs": [],
   "source": [
    "def get_stacking_model_final():\n",
    "    # define the base models\n",
    "    level0 = []\n",
    "    level0.append(('CART', DecisionTreeClassifier(max_depth= 4, min_samples_leaf= 1)))\n",
    "    level0.append(('AB', AdaBoostClassifier(learning_rate= 0.1, n_estimators= 100)))\n",
    "    level0.append(('GBM', GradientBoostingClassifier(learning_rate= 0.01, n_estimators= 200)))\n",
    "\n",
    "\n",
    "    # define meta learner model\n",
    "    level1 = AdaBoostClassifier(learning_rate= 0.1, n_estimators= 100)\n",
    "    # define the stacking ensemble\n",
    "    model = StackingClassifier(estimators=level0, final_estimator=level1, cv=5)\n",
    "    return model"
   ]
  },
  {
   "cell_type": "code",
   "execution_count": 63,
   "id": "RugtRBnWnkHd",
   "metadata": {
    "colab": {
     "base_uri": "https://localhost:8080/"
    },
    "id": "RugtRBnWnkHd",
    "outputId": "2fb02f40-3cca-43b1-b101-3e0fbb7c01d6"
   },
   "outputs": [
    {
     "name": "stdout",
     "output_type": "stream",
     "text": [
      "Accuracy on testing data:\n",
      "0.69\n",
      "Cross_val accuracy:\n",
      "0.6849633055971885\n",
      "              precision    recall  f1-score   support\n",
      "\n",
      "           0       0.56      0.96      0.71       872\n",
      "           1       0.95      0.52      0.67      1328\n",
      "\n",
      "    accuracy                           0.69      2200\n",
      "   macro avg       0.76      0.74      0.69      2200\n",
      "weighted avg       0.80      0.69      0.68      2200\n",
      "\n"
     ]
    }
   ],
   "source": [
    "final_model_shipment = get_stacking_model_final()\n",
    "final_model_shipment.fit(X_train_added_features, y_train_added_features)\n",
    "final_model_shipment_predictions = final_model_shipment.predict(X_test_added_features)\n",
    "\n",
    "accuracy = final_model_shipment.score(X_test_added_features, y_test_added_features)\n",
    "print(\"Accuracy on testing data:\")\n",
    "print (accuracy)\n",
    "\n",
    "cv_result = cross_val_score(final_model_shipment, X_train_added_features, y_train_added_features, cv=kfold, scoring='accuracy')\n",
    "print(\"Cross_val accuracy:\")\n",
    "print(cv_result.mean())\n",
    "print(classification_report(y_test_added_features, final_model_shipment_predictions)) "
   ]
  },
  {
   "cell_type": "markdown",
   "id": "PjW9eKYSLESW",
   "metadata": {
    "id": "PjW9eKYSLESW"
   },
   "source": [
    "## On DecisionTreeClassifier(max_depth= 4, min_samples_leaf= 1)\n",
    "\n",
    "\n",
    "\n",
    "\n"
   ]
  },
  {
   "cell_type": "code",
   "execution_count": 64,
   "id": "Fgf4AMDNlfgN",
   "metadata": {
    "colab": {
     "base_uri": "https://localhost:8080/"
    },
    "id": "Fgf4AMDNlfgN",
    "outputId": "d3ef5f37-d224-48af-cee8-6d4607747f81"
   },
   "outputs": [
    {
     "name": "stdout",
     "output_type": "stream",
     "text": [
      "Accuracy on testing data:\n",
      "0.6881818181818182\n",
      "Cross_val accuracy:\n",
      "0.6856450591761847\n",
      "              precision    recall  f1-score   support\n",
      "\n",
      "           0       0.56      0.94      0.71       872\n",
      "           1       0.93      0.52      0.67      1328\n",
      "\n",
      "    accuracy                           0.69      2200\n",
      "   macro avg       0.75      0.73      0.69      2200\n",
      "weighted avg       0.79      0.69      0.68      2200\n",
      "\n"
     ]
    }
   ],
   "source": [
    "model = DecisionTreeClassifier(max_depth= 4, min_samples_leaf= 1)\n",
    "model.fit(X_train_added_features, y_train_added_features)\n",
    "model_predictions = model.predict(X_test_added_features)\n",
    "\n",
    "accuracy = model.score(X_test_added_features, y_test_added_features)\n",
    "print(\"Accuracy on testing data:\")\n",
    "print (accuracy)\n",
    "\n",
    "cv_result = cross_val_score(model, X_train_added_features, y_train_added_features, cv=kfold, scoring='accuracy')\n",
    "print(\"Cross_val accuracy:\")\n",
    "print(cv_result.mean())\n",
    "print(classification_report(y_test_added_features, model_predictions)) "
   ]
  },
  {
   "cell_type": "markdown",
   "id": "FUkFLCV9LRSN",
   "metadata": {
    "id": "FUkFLCV9LRSN"
   },
   "source": [
    "## On AdaBoostClassifier(learning_rate= 0.1, n_estimators= 100)"
   ]
  },
  {
   "cell_type": "code",
   "execution_count": 65,
   "id": "wfRghbcGlrcU",
   "metadata": {
    "colab": {
     "base_uri": "https://localhost:8080/"
    },
    "id": "wfRghbcGlrcU",
    "outputId": "50ca9d75-2a29-49fc-af9e-1ae6b8453a6b"
   },
   "outputs": [
    {
     "name": "stdout",
     "output_type": "stream",
     "text": [
      "Accuracy on testing data:\n",
      "0.6831818181818182\n",
      "Cross_val accuracy:\n",
      "0.6835995400279085\n",
      "              precision    recall  f1-score   support\n",
      "\n",
      "           0       0.57      0.87      0.69       872\n",
      "           1       0.87      0.56      0.68      1328\n",
      "\n",
      "    accuracy                           0.68      2200\n",
      "   macro avg       0.72      0.72      0.68      2200\n",
      "weighted avg       0.75      0.68      0.68      2200\n",
      "\n"
     ]
    }
   ],
   "source": [
    "model = AdaBoostClassifier(learning_rate= 0.1, n_estimators= 100)\n",
    "model.fit(X_train_added_features, y_train_added_features)\n",
    "model_predictions = model.predict(X_test_added_features)\n",
    "\n",
    "accuracy = model.score(X_test_added_features, y_test_added_features)\n",
    "print(\"Accuracy on testing data:\")\n",
    "print (accuracy)\n",
    "\n",
    "cv_result = cross_val_score(model, X_train_added_features, y_train_added_features, cv=kfold, scoring='accuracy')\n",
    "print(\"Cross_val accuracy:\")\n",
    "print(cv_result.mean())\n",
    "print(classification_report(y_test_added_features, model_predictions)) "
   ]
  },
  {
   "cell_type": "markdown",
   "id": "KzZfEIIvLVdt",
   "metadata": {
    "id": "KzZfEIIvLVdt"
   },
   "source": [
    "## On GradientBoostingClassifier(learning_rate= 0.01, n_estimators= 200)"
   ]
  },
  {
   "cell_type": "code",
   "execution_count": 66,
   "id": "Tr2ttc1slyst",
   "metadata": {
    "colab": {
     "base_uri": "https://localhost:8080/"
    },
    "id": "Tr2ttc1slyst",
    "outputId": "57dc6a3d-f3bc-4743-8857-d836ae578c3d"
   },
   "outputs": [
    {
     "name": "stdout",
     "output_type": "stream",
     "text": [
      "Accuracy on testing data:\n",
      "0.6922727272727273\n",
      "Cross_val accuracy:\n",
      "0.680872138094992\n",
      "              precision    recall  f1-score   support\n",
      "\n",
      "           0       0.57      0.95      0.71       872\n",
      "           1       0.94      0.52      0.67      1328\n",
      "\n",
      "    accuracy                           0.69      2200\n",
      "   macro avg       0.75      0.74      0.69      2200\n",
      "weighted avg       0.79      0.69      0.69      2200\n",
      "\n"
     ]
    }
   ],
   "source": [
    "model = GradientBoostingClassifier(learning_rate= 0.01, n_estimators= 200)\n",
    "model.fit(X_train_added_features, y_train_added_features)\n",
    "model_predictions = model.predict(X_test_added_features)\n",
    "\n",
    "accuracy = model.score(X_test_added_features, y_test_added_features)\n",
    "print(\"Accuracy on testing data:\")\n",
    "print (accuracy)\n",
    "\n",
    "cv_result = cross_val_score(model, X_train_added_features, y_train_added_features, cv=kfold, scoring='accuracy')\n",
    "print(\"Cross_val accuracy:\")\n",
    "print(cv_result.mean())\n",
    "print(classification_report(y_test_added_features, model_predictions)) "
   ]
  },
  {
   "cell_type": "markdown",
   "id": "pi5XrkTfRsQt",
   "metadata": {
    "id": "pi5XrkTfRsQt"
   },
   "source": [
    "# Observations: The stacking ensemble model with AdaBoostClassifier() as the final estimator has the best overall performance owing to its high cross-val accuracy as compared to other models. It also performs reasonably in other metrics. So, this will be our final report."
   ]
  },
  {
   "cell_type": "markdown",
   "id": "y8zb7UV_3whX",
   "metadata": {
    "id": "y8zb7UV_3whX"
   },
   "source": [
    "# Feature Ranking"
   ]
  },
  {
   "cell_type": "code",
   "execution_count": 67,
   "id": "E8ObtjPH6QIq",
   "metadata": {
    "colab": {
     "base_uri": "https://localhost:8080/"
    },
    "id": "E8ObtjPH6QIq",
    "outputId": "45454e03-1f87-47b9-fe01-0f65d643320f"
   },
   "outputs": [
    {
     "data": {
      "text/plain": [
       "ID                     0.411822\n",
       "Customer_care_calls    0.067126\n",
       "Customer_rating        0.013119\n",
       "Cost_of_the_Product    0.073587\n",
       "Prior_purchases        0.055515\n",
       "Discount_offered       0.397108\n",
       "Weight_in_gms          0.268793\n",
       "Reached.on.Time_Y.N    1.000000\n",
       "Name: Reached.on.Time_Y.N, dtype: float64"
      ]
     },
     "execution_count": 67,
     "metadata": {
      "tags": []
     },
     "output_type": "execute_result"
    }
   ],
   "source": [
    "#Correlation with output variable\n",
    "cor_target = abs(cor[\"Reached.on.Time_Y.N\"])\n",
    "#Selecting highly correlated features\n",
    "relevant_features = cor_target\n",
    "relevant_features"
   ]
  },
  {
   "cell_type": "markdown",
   "id": "asL5Z1cU6nSw",
   "metadata": {
    "id": "asL5Z1cU6nSw"
   },
   "source": [
    "**nothing has a correlation of greater than 0.5**\n",
    "**Hence using pearson correlation for feature selection is a bad idea**"
   ]
  },
  {
   "cell_type": "code",
   "execution_count": 68,
   "id": "aKnlWvwO6-f0",
   "metadata": {
    "id": "aKnlWvwO6-f0"
   },
   "outputs": [],
   "source": [
    "x = df.drop(\"Reached.on.Time_Y.N\",1) # feature matrix\n",
    "y = df['Reached.on.Time_Y.N']        # target variable\n",
    "# Using a wrapper method for feature selection"
   ]
  },
  {
   "cell_type": "markdown",
   "id": "mPnJAturIgcB",
   "metadata": {
    "id": "mPnJAturIgcB"
   },
   "source": [
    "# Saving the final model"
   ]
  },
  {
   "cell_type": "code",
   "execution_count": 69,
   "id": "sSrrdBA3IjwF",
   "metadata": {
    "colab": {
     "base_uri": "https://localhost:8080/"
    },
    "id": "sSrrdBA3IjwF",
    "outputId": "5c72148b-f3c6-47a2-9a9c-7726afdf9f2c"
   },
   "outputs": [
    {
     "data": {
      "text/plain": [
       "['/content/drive/MyDrive/final_model_shipment.sav']"
      ]
     },
     "execution_count": 69,
     "metadata": {
      "tags": []
     },
     "output_type": "execute_result"
    }
   ],
   "source": [
    "import joblib\n",
    "filename = '/content/drive/MyDrive/final_model_shipment.sav'\n",
    "joblib.dump(final_model_shipment, filename)"
   ]
  },
  {
   "cell_type": "code",
   "execution_count": 8,
   "id": "oxsBTgBpJEkk",
   "metadata": {
    "colab": {
     "base_uri": "https://localhost:8080/"
    },
    "id": "oxsBTgBpJEkk",
    "outputId": "f3cfdb03-a9d0-477d-b7b5-9bc24b42fce7"
   },
   "outputs": [
    {
     "name": "stdout",
     "output_type": "stream",
     "text": [
      "Drive already mounted at /content/drive; to attempt to forcibly remount, call drive.mount(\"/content/drive\", force_remount=True).\n"
     ]
    },
    {
     "data": {
      "text/plain": [
       "array([1])"
      ]
     },
     "execution_count": 8,
     "metadata": {
      "tags": []
     },
     "output_type": "execute_result"
    }
   ],
   "source": [
    "import numpy as np\n",
    "import joblib\n",
    "from google.colab import drive\n",
    "drive.mount('/content/drive')\n",
    "mj=joblib.load('/content/drive/MyDrive/final_model_shipment.sav')\n",
    "a=np.array([4,2,177,3,44,1233,0,0,0,1,0,1,0,0,0,1,0,1,0,59.000000,133,0.143552,2.00,2,1.333333,-2])\n",
    "a=a.reshape(1,-1)\n",
    "mj.predict(a)"
   ]
  },
  {
   "cell_type": "markdown",
   "id": "LS0JhIAOTUWX",
   "metadata": {
    "id": "LS0JhIAOTUWX"
   },
   "source": [
    "# Predicting on new input"
   ]
  },
  {
   "cell_type": "code",
   "execution_count": 70,
   "id": "RAQVn4qjUITP",
   "metadata": {
    "colab": {
     "base_uri": "https://localhost:8080/"
    },
    "id": "RAQVn4qjUITP",
    "outputId": "fda44acd-8b66-43c8-f0cb-97897ca8ba78"
   },
   "outputs": [
    {
     "name": "stdout",
     "output_type": "stream",
     "text": [
      "<class 'pandas.core.frame.DataFrame'>\n",
      "RangeIndex: 10999 entries, 0 to 10998\n",
      "Data columns (total 12 columns):\n",
      " #   Column               Non-Null Count  Dtype \n",
      "---  ------               --------------  ----- \n",
      " 0   ID                   10999 non-null  int64 \n",
      " 1   Warehouse_block      10999 non-null  object\n",
      " 2   Mode_of_Shipment     10999 non-null  object\n",
      " 3   Customer_care_calls  10999 non-null  int64 \n",
      " 4   Customer_rating      10999 non-null  int64 \n",
      " 5   Cost_of_the_Product  10999 non-null  int64 \n",
      " 6   Prior_purchases      10999 non-null  int64 \n",
      " 7   Product_importance   10999 non-null  object\n",
      " 8   Gender               10999 non-null  object\n",
      " 9   Discount_offered     10999 non-null  int64 \n",
      " 10  Weight_in_gms        10999 non-null  int64 \n",
      " 11  Reached.on.Time_Y.N  10999 non-null  int64 \n",
      "dtypes: int64(8), object(4)\n",
      "memory usage: 1.0+ MB\n"
     ]
    }
   ],
   "source": [
    "df.info()"
   ]
  },
  {
   "cell_type": "code",
   "execution_count": 71,
   "id": "Q1YxX-cuTYH1",
   "metadata": {
    "id": "Q1YxX-cuTYH1"
   },
   "outputs": [],
   "source": [
    "\n",
    "  # ID = int(input('Enter ID: '))\n",
    "  # Warehouse_block = input(\"Enter Warehouse block: \")\n",
    "  # Mode_of_shipment = input(\"Enter Mode of shipment: \")\n",
    "  # Customer_care_calls = int(input('Enter Customer care calls: '))\n",
    "  # Customer_rating = int(input('Enter Customer care calls: '))\n",
    "  # Cost_of_the_product = int(input('Enter Cost of product: '))\n",
    "  # Prior_purchases = int(input('Enter Number of prior purchases: '))\n",
    "  # Product_importance = input(\"Enter Product Importance: \")\n",
    "  # Gender = input(\"Enter Gender: \")\n",
    "  # Discount offered = int(input('Enter Discount Offered: '))\n",
    "  # Weight = int(input('Enter Weight in gms: '))\n",
    "\n",
    "  # Cost_per_Purchase = Cost_of_the_Product/Prior_purchases\n",
    "  # Final_Cost = Cost_of_the_Product - Discount_offered\n",
    "  # Cost_per_Weight = Cost_of_the_Product / Weight_in_gms\n",
    "  # Calls_per_Rating = Customer_care_calls / Customer_rating\n",
    "  # Calls_diff_Rating = Customer_care_calls - Customer_rating\n",
    "  # Calls_per_Purchase = Customer_care_calls / Prior_purchases\n",
    "  # Positivity = Customer_rating - Customer_care_calls\n",
    "\n",
    "\n",
    "\n"
   ]
  }
 ],
 "metadata": {
  "colab": {
   "collapsed_sections": [
    "e5cd0bd8",
    "01f7551d",
    "XFCN1RMdmrmS",
    "0HXlm6SDmyr1",
    "bQr4HXx2aKvu",
    "uOy5C4PHbLaO",
    "IRN_Tp5ddKyl",
    "cueI64to3mcW",
    "AKh81TKcn2K2",
    "HS61MMF2n_jg",
    "0nQ7BZgjoDX-",
    "PjW9eKYSLESW",
    "FUkFLCV9LRSN",
    "KzZfEIIvLVdt",
    "y8zb7UV_3whX"
   ],
   "name": "FinalShipment.ipynb",
   "provenance": []
  },
  "kernelspec": {
   "display_name": "Python 3",
   "language": "python",
   "name": "python3"
  },
  "language_info": {
   "codemirror_mode": {
    "name": "ipython",
    "version": 3
   },
   "file_extension": ".py",
   "mimetype": "text/x-python",
   "name": "python",
   "nbconvert_exporter": "python",
   "pygments_lexer": "ipython3",
   "version": "3.8.8"
  }
 },
 "nbformat": 4,
 "nbformat_minor": 5
}
